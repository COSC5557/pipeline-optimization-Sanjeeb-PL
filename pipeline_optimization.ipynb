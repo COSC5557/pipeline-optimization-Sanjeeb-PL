{
 "cells": [
  {
   "cell_type": "markdown",
   "metadata": {},
   "source": [
    "importing the modules required for neural network"
   ]
  },
  {
   "cell_type": "code",
   "execution_count": 115,
   "metadata": {},
   "outputs": [
    {
     "name": "stdout",
     "output_type": "stream",
     "text": [
      "Defaulting to user installation because normal site-packages is not writeable\n",
      "Requirement already satisfied: optuna in c:\\users\\shumagai\\appdata\\roaming\\python\\python310\\site-packages (3.6.1)\n",
      "Requirement already satisfied: sqlalchemy>=1.3.0 in c:\\programdata\\anaconda3\\lib\\site-packages (from optuna) (1.4.39)\n",
      "Requirement already satisfied: packaging>=20.0 in c:\\programdata\\anaconda3\\lib\\site-packages (from optuna) (22.0)\n",
      "Requirement already satisfied: PyYAML in c:\\programdata\\anaconda3\\lib\\site-packages (from optuna) (6.0)\n",
      "Requirement already satisfied: colorlog in c:\\users\\shumagai\\appdata\\roaming\\python\\python310\\site-packages (from optuna) (6.8.2)\n",
      "Requirement already satisfied: alembic>=1.5.0 in c:\\users\\shumagai\\appdata\\roaming\\python\\python310\\site-packages (from optuna) (1.13.1)\n",
      "Requirement already satisfied: numpy in c:\\programdata\\anaconda3\\lib\\site-packages (from optuna) (1.23.5)\n",
      "Requirement already satisfied: tqdm in c:\\programdata\\anaconda3\\lib\\site-packages (from optuna) (4.64.1)\n",
      "Requirement already satisfied: typing-extensions>=4 in c:\\programdata\\anaconda3\\lib\\site-packages (from alembic>=1.5.0->optuna) (4.4.0)\n",
      "Requirement already satisfied: Mako in c:\\users\\shumagai\\appdata\\roaming\\python\\python310\\site-packages (from alembic>=1.5.0->optuna) (1.3.3)\n",
      "Requirement already satisfied: greenlet!=0.4.17 in c:\\programdata\\anaconda3\\lib\\site-packages (from sqlalchemy>=1.3.0->optuna) (2.0.1)\n",
      "Requirement already satisfied: colorama in c:\\programdata\\anaconda3\\lib\\site-packages (from colorlog->optuna) (0.4.6)\n",
      "Requirement already satisfied: MarkupSafe>=0.9.2 in c:\\programdata\\anaconda3\\lib\\site-packages (from Mako->alembic>=1.5.0->optuna) (2.1.1)\n",
      "Defaulting to user installation because normal site-packages is not writeable\n",
      "Requirement already satisfied: plotly in c:\\programdata\\anaconda3\\lib\\site-packages (5.9.0)\n",
      "Requirement already satisfied: tenacity>=6.2.0 in c:\\programdata\\anaconda3\\lib\\site-packages (from plotly) (8.0.1)\n"
     ]
    }
   ],
   "source": [
    "# import numpy as np\n",
    "# import seaborn as sns\n",
    "from sklearn.ensemble import RandomForestRegressor\n",
    "from sklearn.metrics import mean_squared_error, mean_absolute_error, r2_score\n",
    "# import torch\n",
    "# import torch.nn as nn\n",
    "# import torch.optim as optim\n",
    "# from torch.utils.data import DataLoader, TensorDataset, random_split\n",
    "\n",
    "# libraries for pipleline optimization\n",
    "import pandas as pd\n",
    "from sklearn.model_selection import train_test_split, cross_val_score, RandomizedSearchCV\n",
    "from sklearn.preprocessing import StandardScaler, OneHotEncoder, MinMaxScaler\n",
    "# from sklearn.decomposition import PCA\n",
    "from sklearn.compose import ColumnTransformer\n",
    "import time\n",
    "import matplotlib.pyplot as plt\n",
    "from sklearn.model_selection import KFold\n",
    "# from skopt import gp_minimize\n",
    "from skopt.space import Categorical\n",
    "from sklearn.neural_network import MLPRegressor\n",
    "from sklearn.pipeline import Pipeline\n",
    "from sklearn.impute import SimpleImputer\n",
    "\n",
    "from skopt import BayesSearchCV\n",
    "from skopt.space import Real, Integer, Categorical\n",
    "\n",
    "# while using jupyter notebook\n",
    "!pip install optuna\n",
    "!pip install plotly\n",
    "\n",
    "import optuna\n",
    "import optuna.visualization as vis\n",
    "import plotly\n",
    "# references: https://knowledge.dataiku.com/latest/data-preparation/pipelines/concept-pipeline-optimization.html\n",
    "#https://machinelearningmastery.com/modeling-pipeline-optimization-with-scikit-learn/"
   ]
  },
  {
   "cell_type": "markdown",
   "metadata": {},
   "source": [
    "libraries added to implement bayesian optimization"
   ]
  },
  {
   "cell_type": "code",
   "execution_count": 116,
   "metadata": {},
   "outputs": [],
   "source": [
    "# import warnings\n",
    "# from bayes_opt.constraint import ConstraintModel\n",
    "# from bayes_opt import BayesianOptimization, UtilityFunction, util\n",
    "# # from .target_space import TargetSpace\n",
    "# # from .event import Events, DEFAULT_EVENTS\n",
    "# # from .logger import _get_default_logger\n",
    "# # from .util import UtilityFunction, acq_max, ensure_rng\n",
    "# from sklearn.gaussian_process.kernels import Matern\n",
    "# from sklearn.gaussian_process import GaussianProcessRegressor\n",
    "# from sklearn.metrics import roc_auc_score"
   ]
  },
  {
   "cell_type": "markdown",
   "metadata": {},
   "source": [
    "importing the dataset"
   ]
  },
  {
   "cell_type": "code",
   "execution_count": 117,
   "metadata": {},
   "outputs": [
    {
     "name": "stdout",
     "output_type": "stream",
     "text": [
      "                   Date  DryBulb  DewPnt  WetBulb  Humidity  ElecPrice  Day  \\\n",
      "0         1/1/2006 6:30    24.70   21.75    22.75     84.00      14.35    1   \n",
      "1         1/1/2006 5:00    23.50   21.70    22.30     90.00      14.99    1   \n",
      "2         1/1/2006 5:30    23.75   21.70    22.40     88.50      15.08    1   \n",
      "3         1/1/2006 6:00    24.00   21.70    22.50     87.00      15.16    1   \n",
      "4         1/1/2006 4:30    23.50   21.70    22.30     90.00      15.20    1   \n",
      "...                 ...      ...     ...      ...       ...        ...  ...   \n",
      "87642  31/12/2010 15:00    26.00   19.70    21.90     68.00      47.15   31   \n",
      "87643  31/12/2010 15:30    25.95   19.65    21.85     68.00      50.44   31   \n",
      "87644  31/12/2010 17:00    25.40   19.30    21.50     69.00      50.44   31   \n",
      "87645  31/12/2010 16:00    25.90   19.60    21.80     68.00      56.48   31   \n",
      "87646  31/12/2010 16:30    25.65   19.45    21.65     68.50      61.17   31   \n",
      "\n",
      "       Month  Year  Minutes  SYSLoad  \n",
      "0          1  2006      390  6715.20  \n",
      "1          1  2006      300  6388.28  \n",
      "2          1  2006      330  6395.48  \n",
      "3          1  2006      360  6494.33  \n",
      "4          1  2006      270  6449.18  \n",
      "...      ...   ...      ...      ...  \n",
      "87642     12  2010      900 10719.21  \n",
      "87643     12  2010      930 10809.53  \n",
      "87644     12  2010     1020 10599.93  \n",
      "87645     12  2010      960 10863.90  \n",
      "87646     12  2010      990 10751.29  \n",
      "\n",
      "[87647 rows x 11 columns]\n"
     ]
    }
   ],
   "source": [
    "df = pd.read_csv(\"ercot-dataset.csv\", sep=',')\n",
    "# to change the float to two decimal places following code is used\n",
    "pd.set_option('display.float_format', lambda x: '%.2f' % x)\n",
    "#df = df.iloc[:80000]\n",
    "print(df)"
   ]
  },
  {
   "cell_type": "code",
   "execution_count": 118,
   "metadata": {},
   "outputs": [
    {
     "name": "stdout",
     "output_type": "stream",
     "text": [
      "<class 'pandas.core.frame.DataFrame'>\n",
      "RangeIndex: 87647 entries, 0 to 87646\n",
      "Data columns (total 11 columns):\n",
      " #   Column     Non-Null Count  Dtype  \n",
      "---  ------     --------------  -----  \n",
      " 0   Date       87647 non-null  object \n",
      " 1   DryBulb    87647 non-null  float64\n",
      " 2   DewPnt     87647 non-null  float64\n",
      " 3   WetBulb    87647 non-null  float64\n",
      " 4   Humidity   87647 non-null  float64\n",
      " 5   ElecPrice  87647 non-null  float64\n",
      " 6   Day        87647 non-null  int64  \n",
      " 7   Month      87647 non-null  int64  \n",
      " 8   Year       87647 non-null  int64  \n",
      " 9   Minutes    87647 non-null  int64  \n",
      " 10  SYSLoad    87647 non-null  float64\n",
      "dtypes: float64(6), int64(4), object(1)\n",
      "memory usage: 7.4+ MB\n"
     ]
    },
    {
     "data": {
      "text/plain": [
       "'df.describe()'"
      ]
     },
     "execution_count": 118,
     "metadata": {},
     "output_type": "execute_result"
    }
   ],
   "source": [
    "# prints the high level information about the data\n",
    "df.info()\n",
    "# gives additional statistical information\n",
    "'''df.describe()'''"
   ]
  },
  {
   "cell_type": "code",
   "execution_count": 119,
   "metadata": {},
   "outputs": [],
   "source": [
    "# to check the total missing data on each features\n",
    "# zero indicates there is no missing data values\n",
    "df.isnull().sum()\n",
    "#df1 = df.drop(['Date','Month','Year', 'Day','Minutes'], axis=1)\n",
    "df1 = df.drop(['Date','Year'], axis=1)"
   ]
  },
  {
   "cell_type": "code",
   "execution_count": 120,
   "metadata": {},
   "outputs": [],
   "source": [
    "# df1.corr()\n",
    "# # to see the correlation between features\n",
    "# # this helps to see how one parameters has effects on others\n",
    "# # lets see the plot of correlation data\n",
    "# sns.heatmap(df1.corr(), annot= True)\n",
    "# plt.rcParams[\"figure.figsize\"]=(15,10)\n",
    "# plt.title('Correlation Matrix', fontsize=16)\n",
    "# plt.show()"
   ]
  },
  {
   "cell_type": "code",
   "execution_count": 121,
   "metadata": {},
   "outputs": [
    {
     "data": {
      "text/plain": [
       "\"ct = ColumnTransformer(transformers = [('encoder', OneHotEncoder(), [3])], remainder = 'passthrough')\\nx = ct.fit_transform(x)\\nx = x.toarray() # converts encoded data to dense array (optional) would show error without this\""
      ]
     },
     "execution_count": 121,
     "metadata": {},
     "output_type": "execute_result"
    }
   ],
   "source": [
    "# this will select all the rows and columns except the last one from df and assign to x variable\n",
    "# df1 does not contain the date in the first column in string format\n",
    "X = df1.iloc[:,:-1].values\n",
    "#x = df1.iloc[:,1].values\n",
    "# quality is taken target variable and it in last column and is assigned to y variable\n",
    "y = df1.iloc[:,-1].values\n",
    "# encoding the categorical data using onehotencoder this is for classification tasks\n",
    "'''ct = ColumnTransformer(transformers = [('encoder', OneHotEncoder(), [3])], remainder = 'passthrough')\n",
    "x = ct.fit_transform(x)\n",
    "x = x.toarray() # converts encoded data to dense array (optional) would show error without this'''"
   ]
  },
  {
   "cell_type": "markdown",
   "metadata": {},
   "source": [
    "Splitting the dataset into the training and test set"
   ]
  },
  {
   "cell_type": "code",
   "execution_count": 122,
   "metadata": {},
   "outputs": [],
   "source": [
    "# we will split the data into training and testing data using following code\n",
    "# X_train, X_test, y_train, y_test = train_test_split(X, y, test_size = 0.2, random_state=0)\n",
    "# print(f'Standard deviation of test data: {x_test.std()}')\n",
    "# print(f'mean of test data: {x_test.mean()}')\n",
    "# print(f'Standard deviation of train data: {x_train.std()}')\n",
    "# print(f'mean deviation of train data: {x_train.mean()}')"
   ]
  },
  {
   "cell_type": "markdown",
   "metadata": {},
   "source": [
    "feature standardization and conversion to tensor"
   ]
  },
  {
   "cell_type": "code",
   "execution_count": 123,
   "metadata": {},
   "outputs": [],
   "source": [
    "# Feature Scaling (not necessary for neural networks, but can be applied)\n",
    "# sc_X = StandardScaler()\n",
    "# X_train = sc_X.fit_transform(X_train)\n",
    "# X_test = sc_X.transform(X_test)\n",
    "\n",
    "# # print(f'Standard deviation of test data: {x_test.std()}')\n",
    "# # print(f'mean of test data: {x_test.mean()}')\n",
    "# # print(f'Standard deviation of train data: {x_train.std()}')\n",
    "# # print(f'mean of train data: {x_train.mean()}')\n",
    "# # Convert data to PyTorch tensors\n",
    "# X_train_tensor = torch.tensor(X_train, dtype=torch.float32)\n",
    "# y_train_tensor = torch.tensor(y_train, dtype=torch.float32).view(-1,1)\n",
    "\n",
    "# X_test_tensor = torch.tensor(X_test, dtype=torch.float32)\n",
    "# y_test_tensor = torch.tensor(y_test, dtype=torch.float32).view(-1,1)\n",
    "\n",
    "# # Create a PyTorch dataset and DataLoader\n",
    "# train_dataset = TensorDataset(X_train_tensor, y_train_tensor)\n",
    "# test_dataset = TensorDataset(X_test_tensor, y_test_tensor)\n",
    "\n",
    "# batch_size = 64\n",
    "# train_loader = DataLoader(train_dataset, batch_size=batch_size, shuffle=True)\n",
    "# test_loader = DataLoader(test_dataset, batch_size=batch_size)\n",
    "# len(X_train)\n",
    "# #len(test_loader)"
   ]
  },
  {
   "cell_type": "markdown",
   "metadata": {},
   "source": [
    "Pipeline Preprocessing is done using following code"
   ]
  },
  {
   "cell_type": "code",
   "execution_count": 124,
   "metadata": {},
   "outputs": [],
   "source": [
    "X = pd.DataFrame(X)\n",
    "numeric_features = X.select_dtypes(include=['int64', 'float64']).columns\n",
    "categorical_features = X.select_dtypes(include=['object']).columns\n",
    "\n",
    "numeric_transformer = Pipeline(steps=[\n",
    "    ('imputer', SimpleImputer(strategy='median')),\n",
    "    ('scaler', StandardScaler())\n",
    "])\n",
    "\n",
    "categorical_transformer = Pipeline(steps=[\n",
    "    ('imputer', SimpleImputer(strategy='most_frequent')),\n",
    "    ('onehot', OneHotEncoder(handle_unknown='ignore'))\n",
    "])\n",
    "\n",
    "# combining both features, the value will be stored in preprocessor object\n",
    "preprocessor = ColumnTransformer(\n",
    "    transformers=[\n",
    "        ('num', numeric_transformer, numeric_features),\n",
    "        ('cat', categorical_transformer, categorical_features)\n",
    "    ])\n",
    "\n",
    "preprocessor.fit(X)\n",
    "# lets stored the preprocessed value to a variable\n",
    "X = preprocessor.transform(X)\n",
    "\n",
    "# spliting the dataset into train and test after the transformation\n",
    "X_train, X_test, y_train, y_test = train_test_split(X, y, test_size = 0.2, random_state=0)"
   ]
  },
  {
   "cell_type": "markdown",
   "metadata": {},
   "source": [
    "check the model performance with the default preprocessing as defined in above cell"
   ]
  },
  {
   "cell_type": "code",
   "execution_count": 125,
   "metadata": {},
   "outputs": [
    {
     "name": "stdout",
     "output_type": "stream",
     "text": [
      "Best Random Forest score: 0.9277895459185324\n",
      "Best Neural Network score: 0.8024349269246367\n"
     ]
    },
    {
     "name": "stderr",
     "output_type": "stream",
     "text": [
      "C:\\ProgramData\\anaconda3\\lib\\site-packages\\sklearn\\neural_network\\_multilayer_perceptron.py:684: ConvergenceWarning:\n",
      "\n",
      "Stochastic Optimizer: Maximum iterations (20) reached and the optimization hasn't converged yet.\n",
      "\n"
     ]
    }
   ],
   "source": [
    "# Define the pipeline for Random Forest\n",
    "rf_pipeline = Pipeline([\n",
    "    ('imputer', SimpleImputer(strategy='mean')),\n",
    "    ('scaler', StandardScaler()),\n",
    "    ('regressor', RandomForestRegressor())\n",
    "])\n",
    "\n",
    "# Define the parameter space for Random Forest\n",
    "rf_param_space = {\n",
    "    'regressor__n_estimators': Integer(10, 1000),\n",
    "    'regressor__max_depth': Integer(3, 40),\n",
    "    'regressor__min_samples_split': Integer(2, 10),\n",
    "    'regressor__min_samples_leaf': Integer(1, 5)\n",
    "}\n",
    "\n",
    "# Perform hyperparameter optimization for Random Forest\n",
    "rf_optimizer = BayesSearchCV(\n",
    "    rf_pipeline, \n",
    "    rf_param_space, \n",
    "    n_iter=20, \n",
    "    cv=5, \n",
    "    n_jobs=-1\n",
    ")\n",
    "rf_optimizer.fit(X_train, y_train)\n",
    "\n",
    "# Evaluate the best Random Forest model\n",
    "rf_best_score = rf_optimizer.best_score_\n",
    "print(f\"Best Random Forest score: {rf_best_score}\")\n",
    "\n",
    "# Define the pipeline for Neural Network\n",
    "nn_pipeline = Pipeline([\n",
    "    ('imputer', SimpleImputer(strategy='mean')),\n",
    "    ('scaler', StandardScaler()),\n",
    "    ('regressor', MLPRegressor())\n",
    "])\n",
    "\n",
    "# Define the parameter space for Neural Network\n",
    "nn_param_space = {\n",
    "    'regressor__hidden_layer_sizes': Integer(8, 256, prior='log-uniform'),\n",
    "    'regressor__activation': Categorical(['identity', 'logistic', 'tanh', 'relu']),\n",
    "    'regressor__alpha': Real(1e-5, 1e-2, prior='log-uniform'),\n",
    "    'regressor__max_iter': Integer(10, 100),\n",
    "    'regressor__learning_rate_init': Real(0.0001, 0.1, prior='log-uniform')\n",
    "}\n",
    "\n",
    "# Perform hyperparameter optimization for Neural Network\n",
    "nn_optimizer = BayesSearchCV(\n",
    "    nn_pipeline, \n",
    "    nn_param_space, \n",
    "    n_iter=20, \n",
    "    cv=5, \n",
    "    n_jobs=-1\n",
    ")\n",
    "nn_optimizer.fit(X_train, y_train)\n",
    "\n",
    "# Evaluate the best Neural Network model\n",
    "nn_best_score = nn_optimizer.best_score_\n",
    "print(f\"Best Neural Network score: {nn_best_score}\")\n"
   ]
  },
  {
   "cell_type": "markdown",
   "metadata": {},
   "source": [
    "Best performance of the nn model"
   ]
  },
  {
   "cell_type": "code",
   "execution_count": 126,
   "metadata": {},
   "outputs": [
    {
     "name": "stdout",
     "output_type": "stream",
     "text": [
      "Predicted values:\n",
      "(17530,)\n",
      "The Model performance parameter after HPO using Random Search Optimization in NN algorithm:\n",
      "Mean Squared Error: 348559.8810352999\n",
      "Mean Absolute Error: 460.3521911979186\n",
      "r2_score: 0.8268211750846203\n",
      "Best Parameters for the NN are:\n",
      "OrderedDict([('regressor__activation', 'logistic'), ('regressor__alpha', 0.01), ('regressor__hidden_layer_sizes', 256), ('regressor__learning_rate_init', 0.07996767114465295), ('regressor__max_iter', 20)])\n"
     ]
    },
    {
     "data": {
      "image/png": "[encoded data removed]",
      "text/plain": [
       "<Figure size 640x480 with 1 Axes>"
      ]
     },
     "metadata": {},
     "output_type": "display_data"
    }
   ],
   "source": [
    "# Get the best model from hyperparameter optimization\n",
    "best_nn_model = nn_optimizer.best_estimator_\n",
    "\n",
    "# Make predictions on the test data\n",
    "y_pred = best_nn_model.predict(X_test)\n",
    "\n",
    "# Print the predicted values\n",
    "print(\"Predicted values:\")\n",
    "print(y_pred.shape)\n",
    "\n",
    "R2_score = r2_score(y_test, y_pred)\n",
    "mae = mean_absolute_error(y_test, y_pred)\n",
    "mse = mean_squared_error(y_test, y_pred)\n",
    "print(\"The Model performance parameter after HPO using Random Search Optimization in NN algorithm:\")\n",
    "print(\"Mean Squared Error:\", mse)\n",
    "print(\"Mean Absolute Error:\", mae)\n",
    "print(\"r2_score:\", R2_score)\n",
    "\n",
    "print('Best Parameters for the NN are:')\n",
    "print(nn_optimizer.best_params_)\n",
    "\n",
    "# Plotting the results (optional)\n",
    "plt.plot([min(y_test), max(y_test)], [min(y_test), max(y_test)], color='red', linestyle='--', label='Perfect fit')\n",
    "plt.scatter(y_test, y_pred, color='blue')\n",
    "plt.title('Neural Network')\n",
    "plt.xlabel('Actual values')\n",
    "plt.ylabel('Predicted values')\n",
    "plt.grid(True)\n",
    "plt.show()"
   ]
  },
  {
   "cell_type": "markdown",
   "metadata": {},
   "source": [
    "best performance of the RF model"
   ]
  },
  {
   "cell_type": "code",
   "execution_count": 127,
   "metadata": {},
   "outputs": [
    {
     "name": "stdout",
     "output_type": "stream",
     "text": [
      "Predicted values:\n",
      "(17530,)\n",
      "The Model performance parameter after HPO using Random Search Optimization in RF algorithm:\n",
      "Mean Squared Error: 131618.03439886525\n",
      "Mean Absolute Error: 259.7008580303401\n",
      "r2_score: 0.9346067698119305\n",
      "Best Parameters for the RF are:\n",
      "OrderedDict([('regressor__max_depth', 34), ('regressor__min_samples_leaf', 1), ('regressor__min_samples_split', 2), ('regressor__n_estimators', 939)])\n"
     ]
    },
    {
     "data": {
      "image/png": "[encoded data removed]",
      "text/plain": [
       "<Figure size 640x480 with 1 Axes>"
      ]
     },
     "metadata": {},
     "output_type": "display_data"
    }
   ],
   "source": [
    "# Get the best model from hyperparameter optimization\n",
    "best_rf_model = rf_optimizer.best_estimator_\n",
    "\n",
    "# Make predictions on the test data\n",
    "y_pred = best_rf_model.predict(X_test)\n",
    "\n",
    "# Print the predicted values\n",
    "print(\"Predicted values:\")\n",
    "print(y_pred.shape)\n",
    "\n",
    "R2_score = r2_score(y_test, y_pred)\n",
    "mae = mean_absolute_error(y_test, y_pred)\n",
    "mse = mean_squared_error(y_test, y_pred)\n",
    "print(\"The Model performance parameter after HPO using Random Search Optimization in RF algorithm:\")\n",
    "print(\"Mean Squared Error:\", mse)\n",
    "print(\"Mean Absolute Error:\", mae)\n",
    "print(\"r2_score:\", R2_score)\n",
    "\n",
    "print('Best Parameters for the RF are:')\n",
    "print(rf_optimizer.best_params_)\n",
    "\n",
    "# Plotting the results (optional)\n",
    "plt.plot([min(y_test), max(y_test)], [min(y_test), max(y_test)], color='red', linestyle='--', label='Perfect fit')\n",
    "plt.scatter(y_test, y_pred, color='blue')\n",
    "plt.title('Random Forest')\n",
    "plt.xlabel('Actual values')\n",
    "plt.ylabel('Predicted values')\n",
    "plt.grid(True)\n",
    "plt.show()"
   ]
  },
  {
   "cell_type": "markdown",
   "metadata": {},
   "source": [
    "hyperparameter optimization for preprocessing"
   ]
  },
  {
   "cell_type": "code",
   "execution_count": 128,
   "metadata": {},
   "outputs": [],
   "source": [
    "def objective(trial):\n",
    "    classifier_name = trial.suggest_categorical('regressor', ['RandomForest', 'NN'])\n",
    "    if classifier_name == 'RandomForest':\n",
    "        n_estimators = trial.suggest_int('n_estimators', 10, 200)\n",
    "        max_depth = trial.suggest_int('max_depth', 2, 10)\n",
    "        min_samples_split = trial.suggest_int('min_samples_split', 2, 10)\n",
    "        min_samples_leaf = trial.suggest_int('min_samples_leaf', 1, 5)\n",
    "        regr = RandomForestRegressor(n_estimators=n_estimators,max_depth=max_depth ,min_samples_split=min_samples_split,min_samples_leaf=min_samples_leaf, random_state=42)\n",
    "    else:\n",
    "        hidden_layer_sizes = trial.suggest_int('hidden_layer_sizes', 8, 256)\n",
    "        activation = trial.suggest_categorical('activation',['identity', 'logistic', 'tanh', 'relu'])\n",
    "        alpha = trial.suggest_float('alpha',1e-5, 1e-2)\n",
    "        max_iter = trial.suggest_int('max_iter', 10, 100)\n",
    "        learning_rate_init = trial.suggest_float('learning_rate_init', 0.0001, 0.1)\n",
    "        \n",
    "        regr = MLPRegressor(hidden_layer_sizes=hidden_layer_sizes, activation=activation, alpha=alpha, max_iter=max_iter,\n",
    "                            learning_rate_init=learning_rate_init, random_state=42)\n",
    "\n",
    "    numeric_features = X.select_dtypes(include=['int64', 'float64']).columns\n",
    "    categorical_features = X.select_dtypes(include=['object']).columns\n",
    "    \n",
    "    # Hyperparameters for numeric transformer\n",
    "    num_imputer_strategy = trial.suggest_categorical('num_imputer_strategy', ['mean', 'median', 'most_frequent'])\n",
    "    num_scaler = trial.suggest_categorical('num_scaler', ['StandardScaler', 'MinMaxScaler'])\n",
    "\n",
    "    numeric_transformer = Pipeline(steps=[\n",
    "        ('imputer', SimpleImputer(strategy=num_imputer_strategy)),\n",
    "        ('scaler', StandardScaler() if num_scaler == 'StandardScaler' else MinMaxScaler())\n",
    "    ])\n",
    "\n",
    "    # Hyperparameters for categorical transformer\n",
    "    cat_imputer_strategy = trial.suggest_categorical('cat_imputer_strategy', ['most_frequent', 'constant'])\n",
    "    cat_encoder_handle_unknown = trial.suggest_categorical('cat_encoder_handle_unknown', ['error', 'ignore'])\n",
    "    \n",
    "    categorical_transformer = Pipeline(steps=[\n",
    "        ('imputer', SimpleImputer(strategy=cat_imputer_strategy)),\n",
    "        ('onehot', OneHotEncoder(handle_unknown=cat_encoder_handle_unknown))\n",
    "    ])\n",
    "\n",
    "    preprocessor = ColumnTransformer(\n",
    "        transformers=[\n",
    "            ('num', numeric_transformer, numeric_features),\n",
    "            ('cat', categorical_transformer, categorical_features)\n",
    "        ])\n",
    "\n",
    "    pipeline = Pipeline(steps=[('preprocessor', preprocessor),\n",
    "                                ('regressor', regr)])\n",
    "\n",
    "    pipeline.fit(X_train, y_train)\n",
    "\n",
    "    y_pred = pipeline.predict(X_test)\n",
    "    accuracy = r2_score(y_test, y_pred)\n",
    "\n",
    "    return accuracy"
   ]
  },
  {
   "cell_type": "code",
   "execution_count": 129,
   "metadata": {},
   "outputs": [
    {
     "name": "stderr",
     "output_type": "stream",
     "text": [
      "[I 2024-05-06 17:45:38,655] A new study created in memory with name: no-name-64832180-58c2-4ad8-a225-79052893cc55\n"
     ]
    },
    {
     "name": "stdout",
     "output_type": "stream",
     "text": [
      "Base Accuracy: 0.9338337673839685\n"
     ]
    },
    {
     "name": "stderr",
     "output_type": "stream",
     "text": [
      "C:\\ProgramData\\anaconda3\\lib\\site-packages\\sklearn\\neural_network\\_multilayer_perceptron.py:684: ConvergenceWarning:\n",
      "\n",
      "Stochastic Optimizer: Maximum iterations (32) reached and the optimization hasn't converged yet.\n",
      "\n",
      "[I 2024-05-06 17:45:40,339] Trial 0 finished with value: 0.3153501100507703 and parameters: {'regressor': 'NN', 'hidden_layer_sizes': 73, 'activation': 'identity', 'alpha': 0.0064920912568368315, 'max_iter': 32, 'learning_rate_init': 0.04108252162104657, 'num_imputer_strategy': 'median', 'num_scaler': 'MinMaxScaler', 'cat_imputer_strategy': 'most_frequent', 'cat_encoder_handle_unknown': 'ignore'}. Best is trial 0 with value: 0.3153501100507703.\n",
      "C:\\ProgramData\\anaconda3\\lib\\site-packages\\sklearn\\neural_network\\_multilayer_perceptron.py:684: ConvergenceWarning:\n",
      "\n",
      "Stochastic Optimizer: Maximum iterations (26) reached and the optimization hasn't converged yet.\n",
      "\n",
      "[I 2024-05-06 17:45:41,740] Trial 1 finished with value: 0.3072373974040764 and parameters: {'regressor': 'NN', 'hidden_layer_sizes': 46, 'activation': 'relu', 'alpha': 0.008662170013771486, 'max_iter': 26, 'learning_rate_init': 0.0929683766029418, 'num_imputer_strategy': 'mean', 'num_scaler': 'MinMaxScaler', 'cat_imputer_strategy': 'most_frequent', 'cat_encoder_handle_unknown': 'ignore'}. Best is trial 0 with value: 0.3153501100507703.\n",
      "C:\\ProgramData\\anaconda3\\lib\\site-packages\\sklearn\\neural_network\\_multilayer_perceptron.py:684: ConvergenceWarning:\n",
      "\n",
      "Stochastic Optimizer: Maximum iterations (64) reached and the optimization hasn't converged yet.\n",
      "\n",
      "[I 2024-05-06 17:45:46,914] Trial 2 finished with value: 0.8306916973676375 and parameters: {'regressor': 'NN', 'hidden_layer_sizes': 123, 'activation': 'relu', 'alpha': 0.00299423522658494, 'max_iter': 64, 'learning_rate_init': 0.0756515571202979, 'num_imputer_strategy': 'most_frequent', 'num_scaler': 'StandardScaler', 'cat_imputer_strategy': 'constant', 'cat_encoder_handle_unknown': 'error'}. Best is trial 2 with value: 0.8306916973676375.\n",
      "C:\\ProgramData\\anaconda3\\lib\\site-packages\\sklearn\\neural_network\\_multilayer_perceptron.py:684: ConvergenceWarning:\n",
      "\n",
      "Stochastic Optimizer: Maximum iterations (20) reached and the optimization hasn't converged yet.\n",
      "\n",
      "[I 2024-05-06 17:45:49,486] Trial 3 finished with value: 0.31262042115435607 and parameters: {'regressor': 'NN', 'hidden_layer_sizes': 247, 'activation': 'relu', 'alpha': 0.0022215779717613747, 'max_iter': 20, 'learning_rate_init': 0.034329453577165714, 'num_imputer_strategy': 'mean', 'num_scaler': 'MinMaxScaler', 'cat_imputer_strategy': 'most_frequent', 'cat_encoder_handle_unknown': 'error'}. Best is trial 2 with value: 0.8306916973676375.\n",
      "[I 2024-05-06 17:45:58,773] Trial 4 finished with value: 0.7698912852224656 and parameters: {'regressor': 'RandomForest', 'n_estimators': 168, 'max_depth': 5, 'min_samples_split': 9, 'min_samples_leaf': 5, 'num_imputer_strategy': 'mean', 'num_scaler': 'StandardScaler', 'cat_imputer_strategy': 'constant', 'cat_encoder_handle_unknown': 'ignore'}. Best is trial 2 with value: 0.8306916973676375.\n",
      "C:\\ProgramData\\anaconda3\\lib\\site-packages\\sklearn\\neural_network\\_multilayer_perceptron.py:684: ConvergenceWarning:\n",
      "\n",
      "Stochastic Optimizer: Maximum iterations (23) reached and the optimization hasn't converged yet.\n",
      "\n",
      "[I 2024-05-06 17:46:00,505] Trial 5 finished with value: 0.7539600713760047 and parameters: {'regressor': 'NN', 'hidden_layer_sizes': 75, 'activation': 'logistic', 'alpha': 0.009370183385629609, 'max_iter': 23, 'learning_rate_init': 0.054548749970741245, 'num_imputer_strategy': 'most_frequent', 'num_scaler': 'StandardScaler', 'cat_imputer_strategy': 'constant', 'cat_encoder_handle_unknown': 'ignore'}. Best is trial 2 with value: 0.8306916973676375.\n",
      "[I 2024-05-06 17:46:02,932] Trial 6 finished with value: 0.6114393198035766 and parameters: {'regressor': 'RandomForest', 'n_estimators': 104, 'max_depth': 2, 'min_samples_split': 3, 'min_samples_leaf': 4, 'num_imputer_strategy': 'median', 'num_scaler': 'StandardScaler', 'cat_imputer_strategy': 'constant', 'cat_encoder_handle_unknown': 'error'}. Best is trial 2 with value: 0.8306916973676375.\n",
      "C:\\ProgramData\\anaconda3\\lib\\site-packages\\sklearn\\neural_network\\_multilayer_perceptron.py:684: ConvergenceWarning:\n",
      "\n",
      "Stochastic Optimizer: Maximum iterations (45) reached and the optimization hasn't converged yet.\n",
      "\n",
      "[I 2024-05-06 17:46:04,478] Trial 7 finished with value: 0.3177486367141714 and parameters: {'regressor': 'NN', 'hidden_layer_sizes': 13, 'activation': 'identity', 'alpha': 0.0010731909899068584, 'max_iter': 45, 'learning_rate_init': 0.07461883548787436, 'num_imputer_strategy': 'mean', 'num_scaler': 'MinMaxScaler', 'cat_imputer_strategy': 'most_frequent', 'cat_encoder_handle_unknown': 'error'}. Best is trial 2 with value: 0.8306916973676375.\n",
      "[I 2024-05-06 17:46:13,816] Trial 8 finished with value: 0.7698913517236163 and parameters: {'regressor': 'RandomForest', 'n_estimators': 168, 'max_depth': 5, 'min_samples_split': 4, 'min_samples_leaf': 4, 'num_imputer_strategy': 'mean', 'num_scaler': 'StandardScaler', 'cat_imputer_strategy': 'constant', 'cat_encoder_handle_unknown': 'ignore'}. Best is trial 2 with value: 0.8306916973676375.\n",
      "C:\\ProgramData\\anaconda3\\lib\\site-packages\\sklearn\\neural_network\\_multilayer_perceptron.py:684: ConvergenceWarning:\n",
      "\n",
      "Stochastic Optimizer: Maximum iterations (92) reached and the optimization hasn't converged yet.\n",
      "\n",
      "[I 2024-05-06 17:46:24,880] Trial 9 finished with value: 0.3248474987807247 and parameters: {'regressor': 'NN', 'hidden_layer_sizes': 222, 'activation': 'relu', 'alpha': 0.005180209598095739, 'max_iter': 92, 'learning_rate_init': 0.07237311285137744, 'num_imputer_strategy': 'most_frequent', 'num_scaler': 'MinMaxScaler', 'cat_imputer_strategy': 'constant', 'cat_encoder_handle_unknown': 'ignore'}. Best is trial 2 with value: 0.8306916973676375.\n",
      "[I 2024-05-06 17:46:26,058] Trial 10 finished with value: 0.8734794330057536 and parameters: {'regressor': 'RandomForest', 'n_estimators': 10, 'max_depth': 10, 'min_samples_split': 10, 'min_samples_leaf': 1, 'num_imputer_strategy': 'most_frequent', 'num_scaler': 'StandardScaler', 'cat_imputer_strategy': 'constant', 'cat_encoder_handle_unknown': 'error'}. Best is trial 10 with value: 0.8734794330057536.\n",
      "[I 2024-05-06 17:46:27,429] Trial 11 finished with value: 0.8737222119064176 and parameters: {'regressor': 'RandomForest', 'n_estimators': 12, 'max_depth': 10, 'min_samples_split': 10, 'min_samples_leaf': 1, 'num_imputer_strategy': 'most_frequent', 'num_scaler': 'StandardScaler', 'cat_imputer_strategy': 'constant', 'cat_encoder_handle_unknown': 'error'}. Best is trial 11 with value: 0.8737222119064176.\n",
      "[I 2024-05-06 17:46:28,814] Trial 12 finished with value: 0.8737222119064176 and parameters: {'regressor': 'RandomForest', 'n_estimators': 12, 'max_depth': 10, 'min_samples_split': 10, 'min_samples_leaf': 1, 'num_imputer_strategy': 'most_frequent', 'num_scaler': 'StandardScaler', 'cat_imputer_strategy': 'constant', 'cat_encoder_handle_unknown': 'error'}. Best is trial 11 with value: 0.8737222119064176.\n",
      "[I 2024-05-06 17:46:30,188] Trial 13 finished with value: 0.8738329339571498 and parameters: {'regressor': 'RandomForest', 'n_estimators': 12, 'max_depth': 10, 'min_samples_split': 8, 'min_samples_leaf': 1, 'num_imputer_strategy': 'most_frequent', 'num_scaler': 'StandardScaler', 'cat_imputer_strategy': 'constant', 'cat_encoder_handle_unknown': 'error'}. Best is trial 13 with value: 0.8738329339571498.\n",
      "[I 2024-05-06 17:46:35,972] Trial 14 finished with value: 0.844776880107388 and parameters: {'regressor': 'RandomForest', 'n_estimators': 65, 'max_depth': 8, 'min_samples_split': 7, 'min_samples_leaf': 2, 'num_imputer_strategy': 'most_frequent', 'num_scaler': 'StandardScaler', 'cat_imputer_strategy': 'constant', 'cat_encoder_handle_unknown': 'error'}. Best is trial 13 with value: 0.8738329339571498.\n",
      "[I 2024-05-06 17:46:40,656] Trial 15 finished with value: 0.8446324267517407 and parameters: {'regressor': 'RandomForest', 'n_estimators': 52, 'max_depth': 8, 'min_samples_split': 7, 'min_samples_leaf': 2, 'num_imputer_strategy': 'most_frequent', 'num_scaler': 'StandardScaler', 'cat_imputer_strategy': 'constant', 'cat_encoder_handle_unknown': 'error'}. Best is trial 13 with value: 0.8738329339571498.\n"
     ]
    },
    {
     "name": "stderr",
     "output_type": "stream",
     "text": [
      "[I 2024-05-06 17:46:45,640] Trial 16 finished with value: 0.8449683838995219 and parameters: {'regressor': 'RandomForest', 'n_estimators': 56, 'max_depth': 8, 'min_samples_split': 8, 'min_samples_leaf': 2, 'num_imputer_strategy': 'most_frequent', 'num_scaler': 'StandardScaler', 'cat_imputer_strategy': 'constant', 'cat_encoder_handle_unknown': 'error'}. Best is trial 13 with value: 0.8738329339571498.\n",
      "[I 2024-05-06 17:46:49,131] Trial 17 finished with value: 0.8749540421242425 and parameters: {'regressor': 'RandomForest', 'n_estimators': 31, 'max_depth': 10, 'min_samples_split': 5, 'min_samples_leaf': 1, 'num_imputer_strategy': 'median', 'num_scaler': 'StandardScaler', 'cat_imputer_strategy': 'constant', 'cat_encoder_handle_unknown': 'error'}. Best is trial 17 with value: 0.8749540421242425.\n",
      "[I 2024-05-06 17:46:56,653] Trial 18 finished with value: 0.8248130811855592 and parameters: {'regressor': 'RandomForest', 'n_estimators': 97, 'max_depth': 7, 'min_samples_split': 5, 'min_samples_leaf': 3, 'num_imputer_strategy': 'median', 'num_scaler': 'StandardScaler', 'cat_imputer_strategy': 'most_frequent', 'cat_encoder_handle_unknown': 'error'}. Best is trial 17 with value: 0.8749540421242425.\n",
      "[I 2024-05-06 17:47:00,897] Trial 19 finished with value: 0.8610508199439727 and parameters: {'regressor': 'RandomForest', 'n_estimators': 42, 'max_depth': 9, 'min_samples_split': 6, 'min_samples_leaf': 1, 'num_imputer_strategy': 'median', 'num_scaler': 'StandardScaler', 'cat_imputer_strategy': 'constant', 'cat_encoder_handle_unknown': 'error'}. Best is trial 17 with value: 0.8749540421242425.\n"
     ]
    },
    {
     "name": "stdout",
     "output_type": "stream",
     "text": [
      "Optimized Accuracy: 0.8749540421242425\n",
      "Best Hyperparameters: {'regressor': 'RandomForest', 'n_estimators': 31, 'max_depth': 10, 'min_samples_split': 5, 'min_samples_leaf': 1, 'num_imputer_strategy': 'median', 'num_scaler': 'StandardScaler', 'cat_imputer_strategy': 'constant', 'cat_encoder_handle_unknown': 'error'}\n"
     ]
    },
    {
     "data": {
      "application/vnd.plotly.v1+json": {
       "config": {
        "plotlyServerURL": "https://plot.ly"
       },
       "data": [
        {
         "marker": {
          "color": [
           0,
           1,
           2,
           3,
           5,
           7,
           9
          ],
          "colorbar": {
           "title": {
            "text": "Trial"
           },
           "x": 1,
           "xpad": 40
          },
          "colorscale": [
           [
            0,
            "rgb(247,251,255)"
           ],
           [
            0.125,
            "rgb(222,235,247)"
           ],
           [
            0.25,
            "rgb(198,219,239)"
           ],
           [
            0.375,
            "rgb(158,202,225)"
           ],
           [
            0.5,
            "rgb(107,174,214)"
           ],
           [
            0.625,
            "rgb(66,146,198)"
           ],
           [
            0.75,
            "rgb(33,113,181)"
           ],
           [
            0.875,
            "rgb(8,81,156)"
           ],
           [
            1,
            "rgb(8,48,107)"
           ]
          ],
          "line": {
           "color": "Grey",
           "width": 0.5
          },
          "showscale": true
         },
         "mode": "markers",
         "name": "Feasible Trial",
         "showlegend": false,
         "type": "scatter",
         "x": [
          "identity",
          "relu",
          "relu",
          "relu",
          "logistic",
          "identity",
          "relu"
         ],
         "xaxis": "x",
         "y": [
          0.3153501100507703,
          0.3072373974040764,
          0.8306916973676375,
          0.31262042115435607,
          0.7539600713760047,
          0.3177486367141714,
          0.3248474987807247
         ],
         "yaxis": "y"
        },
        {
         "marker": {
          "color": [
           0,
           1,
           2,
           3,
           5,
           7,
           9
          ],
          "colorbar": {
           "title": {
            "text": "Trial"
           },
           "x": 1,
           "xpad": 40
          },
          "colorscale": [
           [
            0,
            "rgb(247,251,255)"
           ],
           [
            0.125,
            "rgb(222,235,247)"
           ],
           [
            0.25,
            "rgb(198,219,239)"
           ],
           [
            0.375,
            "rgb(158,202,225)"
           ],
           [
            0.5,
            "rgb(107,174,214)"
           ],
           [
            0.625,
            "rgb(66,146,198)"
           ],
           [
            0.75,
            "rgb(33,113,181)"
           ],
           [
            0.875,
            "rgb(8,81,156)"
           ],
           [
            1,
            "rgb(8,48,107)"
           ]
          ],
          "line": {
           "color": "Grey",
           "width": 0.5
          },
          "showscale": false
         },
         "mode": "markers",
         "name": "Feasible Trial",
         "showlegend": false,
         "type": "scatter",
         "x": [
          0.0064920912568368315,
          0.008662170013771486,
          0.00299423522658494,
          0.0022215779717613747,
          0.009370183385629609,
          0.0010731909899068584,
          0.005180209598095739
         ],
         "xaxis": "x2",
         "y": [
          0.3153501100507703,
          0.3072373974040764,
          0.8306916973676375,
          0.31262042115435607,
          0.7539600713760047,
          0.3177486367141714,
          0.3248474987807247
         ],
         "yaxis": "y2"
        },
        {
         "marker": {
          "color": [
           0,
           1,
           2,
           3,
           4,
           5,
           6,
           7,
           8,
           9,
           10,
           11,
           12,
           13,
           14,
           15,
           16,
           17,
           18,
           19
          ],
          "colorbar": {
           "title": {
            "text": "Trial"
           },
           "x": 1,
           "xpad": 40
          },
          "colorscale": [
           [
            0,
            "rgb(247,251,255)"
           ],
           [
            0.125,
            "rgb(222,235,247)"
           ],
           [
            0.25,
            "rgb(198,219,239)"
           ],
           [
            0.375,
            "rgb(158,202,225)"
           ],
           [
            0.5,
            "rgb(107,174,214)"
           ],
           [
            0.625,
            "rgb(66,146,198)"
           ],
           [
            0.75,
            "rgb(33,113,181)"
           ],
           [
            0.875,
            "rgb(8,81,156)"
           ],
           [
            1,
            "rgb(8,48,107)"
           ]
          ],
          "line": {
           "color": "Grey",
           "width": 0.5
          },
          "showscale": false
         },
         "mode": "markers",
         "name": "Feasible Trial",
         "showlegend": false,
         "type": "scatter",
         "x": [
          "ignore",
          "ignore",
          "error",
          "error",
          "ignore",
          "ignore",
          "error",
          "error",
          "ignore",
          "ignore",
          "error",
          "error",
          "error",
          "error",
          "error",
          "error",
          "error",
          "error",
          "error",
          "error"
         ],
         "xaxis": "x3",
         "y": [
          0.3153501100507703,
          0.3072373974040764,
          0.8306916973676375,
          0.31262042115435607,
          0.7698912852224656,
          0.7539600713760047,
          0.6114393198035766,
          0.3177486367141714,
          0.7698913517236163,
          0.3248474987807247,
          0.8734794330057536,
          0.8737222119064176,
          0.8737222119064176,
          0.8738329339571498,
          0.844776880107388,
          0.8446324267517407,
          0.8449683838995219,
          0.8749540421242425,
          0.8248130811855592,
          0.8610508199439727
         ],
         "yaxis": "y3"
        },
        {
         "marker": {
          "color": [
           0,
           1,
           2,
           3,
           4,
           5,
           6,
           7,
           8,
           9,
           10,
           11,
           12,
           13,
           14,
           15,
           16,
           17,
           18,
           19
          ],
          "colorbar": {
           "title": {
            "text": "Trial"
           },
           "x": 1,
           "xpad": 40
          },
          "colorscale": [
           [
            0,
            "rgb(247,251,255)"
           ],
           [
            0.125,
            "rgb(222,235,247)"
           ],
           [
            0.25,
            "rgb(198,219,239)"
           ],
           [
            0.375,
            "rgb(158,202,225)"
           ],
           [
            0.5,
            "rgb(107,174,214)"
           ],
           [
            0.625,
            "rgb(66,146,198)"
           ],
           [
            0.75,
            "rgb(33,113,181)"
           ],
           [
            0.875,
            "rgb(8,81,156)"
           ],
           [
            1,
            "rgb(8,48,107)"
           ]
          ],
          "line": {
           "color": "Grey",
           "width": 0.5
          },
          "showscale": false
         },
         "mode": "markers",
         "name": "Feasible Trial",
         "showlegend": false,
         "type": "scatter",
         "x": [
          "most_frequent",
          "most_frequent",
          "constant",
          "most_frequent",
          "constant",
          "constant",
          "constant",
          "most_frequent",
          "constant",
          "constant",
          "constant",
          "constant",
          "constant",
          "constant",
          "constant",
          "constant",
          "constant",
          "constant",
          "most_frequent",
          "constant"
         ],
         "xaxis": "x4",
         "y": [
          0.3153501100507703,
          0.3072373974040764,
          0.8306916973676375,
          0.31262042115435607,
          0.7698912852224656,
          0.7539600713760047,
          0.6114393198035766,
          0.3177486367141714,
          0.7698913517236163,
          0.3248474987807247,
          0.8734794330057536,
          0.8737222119064176,
          0.8737222119064176,
          0.8738329339571498,
          0.844776880107388,
          0.8446324267517407,
          0.8449683838995219,
          0.8749540421242425,
          0.8248130811855592,
          0.8610508199439727
         ],
         "yaxis": "y4"
        },
        {
         "marker": {
          "color": [
           0,
           1,
           2,
           3,
           5,
           7,
           9
          ],
          "colorbar": {
           "title": {
            "text": "Trial"
           },
           "x": 1,
           "xpad": 40
          },
          "colorscale": [
           [
            0,
            "rgb(247,251,255)"
           ],
           [
            0.125,
            "rgb(222,235,247)"
           ],
           [
            0.25,
            "rgb(198,219,239)"
           ],
           [
            0.375,
            "rgb(158,202,225)"
           ],
           [
            0.5,
            "rgb(107,174,214)"
           ],
           [
            0.625,
            "rgb(66,146,198)"
           ],
           [
            0.75,
            "rgb(33,113,181)"
           ],
           [
            0.875,
            "rgb(8,81,156)"
           ],
           [
            1,
            "rgb(8,48,107)"
           ]
          ],
          "line": {
           "color": "Grey",
           "width": 0.5
          },
          "showscale": false
         },
         "mode": "markers",
         "name": "Feasible Trial",
         "showlegend": false,
         "type": "scatter",
         "x": [
          73,
          46,
          123,
          247,
          75,
          13,
          222
         ],
         "xaxis": "x5",
         "y": [
          0.3153501100507703,
          0.3072373974040764,
          0.8306916973676375,
          0.31262042115435607,
          0.7539600713760047,
          0.3177486367141714,
          0.3248474987807247
         ],
         "yaxis": "y5"
        },
        {
         "marker": {
          "color": [
           0,
           1,
           2,
           3,
           5,
           7,
           9
          ],
          "colorbar": {
           "title": {
            "text": "Trial"
           },
           "x": 1,
           "xpad": 40
          },
          "colorscale": [
           [
            0,
            "rgb(247,251,255)"
           ],
           [
            0.125,
            "rgb(222,235,247)"
           ],
           [
            0.25,
            "rgb(198,219,239)"
           ],
           [
            0.375,
            "rgb(158,202,225)"
           ],
           [
            0.5,
            "rgb(107,174,214)"
           ],
           [
            0.625,
            "rgb(66,146,198)"
           ],
           [
            0.75,
            "rgb(33,113,181)"
           ],
           [
            0.875,
            "rgb(8,81,156)"
           ],
           [
            1,
            "rgb(8,48,107)"
           ]
          ],
          "line": {
           "color": "Grey",
           "width": 0.5
          },
          "showscale": false
         },
         "mode": "markers",
         "name": "Feasible Trial",
         "showlegend": false,
         "type": "scatter",
         "x": [
          0.04108252162104657,
          0.0929683766029418,
          0.0756515571202979,
          0.034329453577165714,
          0.054548749970741245,
          0.07461883548787436,
          0.07237311285137744
         ],
         "xaxis": "x6",
         "y": [
          0.3153501100507703,
          0.3072373974040764,
          0.8306916973676375,
          0.31262042115435607,
          0.7539600713760047,
          0.3177486367141714,
          0.3248474987807247
         ],
         "yaxis": "y6"
        },
        {
         "marker": {
          "color": [
           4,
           6,
           8,
           10,
           11,
           12,
           13,
           14,
           15,
           16,
           17,
           18,
           19
          ],
          "colorbar": {
           "title": {
            "text": "Trial"
           },
           "x": 1,
           "xpad": 40
          },
          "colorscale": [
           [
            0,
            "rgb(247,251,255)"
           ],
           [
            0.125,
            "rgb(222,235,247)"
           ],
           [
            0.25,
            "rgb(198,219,239)"
           ],
           [
            0.375,
            "rgb(158,202,225)"
           ],
           [
            0.5,
            "rgb(107,174,214)"
           ],
           [
            0.625,
            "rgb(66,146,198)"
           ],
           [
            0.75,
            "rgb(33,113,181)"
           ],
           [
            0.875,
            "rgb(8,81,156)"
           ],
           [
            1,
            "rgb(8,48,107)"
           ]
          ],
          "line": {
           "color": "Grey",
           "width": 0.5
          },
          "showscale": false
         },
         "mode": "markers",
         "name": "Feasible Trial",
         "showlegend": false,
         "type": "scatter",
         "x": [
          5,
          2,
          5,
          10,
          10,
          10,
          10,
          8,
          8,
          8,
          10,
          7,
          9
         ],
         "xaxis": "x7",
         "y": [
          0.7698912852224656,
          0.6114393198035766,
          0.7698913517236163,
          0.8734794330057536,
          0.8737222119064176,
          0.8737222119064176,
          0.8738329339571498,
          0.844776880107388,
          0.8446324267517407,
          0.8449683838995219,
          0.8749540421242425,
          0.8248130811855592,
          0.8610508199439727
         ],
         "yaxis": "y7"
        },
        {
         "marker": {
          "color": [
           0,
           1,
           2,
           3,
           5,
           7,
           9
          ],
          "colorbar": {
           "title": {
            "text": "Trial"
           },
           "x": 1,
           "xpad": 40
          },
          "colorscale": [
           [
            0,
            "rgb(247,251,255)"
           ],
           [
            0.125,
            "rgb(222,235,247)"
           ],
           [
            0.25,
            "rgb(198,219,239)"
           ],
           [
            0.375,
            "rgb(158,202,225)"
           ],
           [
            0.5,
            "rgb(107,174,214)"
           ],
           [
            0.625,
            "rgb(66,146,198)"
           ],
           [
            0.75,
            "rgb(33,113,181)"
           ],
           [
            0.875,
            "rgb(8,81,156)"
           ],
           [
            1,
            "rgb(8,48,107)"
           ]
          ],
          "line": {
           "color": "Grey",
           "width": 0.5
          },
          "showscale": false
         },
         "mode": "markers",
         "name": "Feasible Trial",
         "showlegend": false,
         "type": "scatter",
         "x": [
          32,
          26,
          64,
          20,
          23,
          45,
          92
         ],
         "xaxis": "x8",
         "y": [
          0.3153501100507703,
          0.3072373974040764,
          0.8306916973676375,
          0.31262042115435607,
          0.7539600713760047,
          0.3177486367141714,
          0.3248474987807247
         ],
         "yaxis": "y8"
        },
        {
         "marker": {
          "color": [
           4,
           6,
           8,
           10,
           11,
           12,
           13,
           14,
           15,
           16,
           17,
           18,
           19
          ],
          "colorbar": {
           "title": {
            "text": "Trial"
           },
           "x": 1,
           "xpad": 40
          },
          "colorscale": [
           [
            0,
            "rgb(247,251,255)"
           ],
           [
            0.125,
            "rgb(222,235,247)"
           ],
           [
            0.25,
            "rgb(198,219,239)"
           ],
           [
            0.375,
            "rgb(158,202,225)"
           ],
           [
            0.5,
            "rgb(107,174,214)"
           ],
           [
            0.625,
            "rgb(66,146,198)"
           ],
           [
            0.75,
            "rgb(33,113,181)"
           ],
           [
            0.875,
            "rgb(8,81,156)"
           ],
           [
            1,
            "rgb(8,48,107)"
           ]
          ],
          "line": {
           "color": "Grey",
           "width": 0.5
          },
          "showscale": false
         },
         "mode": "markers",
         "name": "Feasible Trial",
         "showlegend": false,
         "type": "scatter",
         "x": [
          5,
          4,
          4,
          1,
          1,
          1,
          1,
          2,
          2,
          2,
          1,
          3,
          1
         ],
         "xaxis": "x9",
         "y": [
          0.7698912852224656,
          0.6114393198035766,
          0.7698913517236163,
          0.8734794330057536,
          0.8737222119064176,
          0.8737222119064176,
          0.8738329339571498,
          0.844776880107388,
          0.8446324267517407,
          0.8449683838995219,
          0.8749540421242425,
          0.8248130811855592,
          0.8610508199439727
         ],
         "yaxis": "y9"
        },
        {
         "marker": {
          "color": [
           4,
           6,
           8,
           10,
           11,
           12,
           13,
           14,
           15,
           16,
           17,
           18,
           19
          ],
          "colorbar": {
           "title": {
            "text": "Trial"
           },
           "x": 1,
           "xpad": 40
          },
          "colorscale": [
           [
            0,
            "rgb(247,251,255)"
           ],
           [
            0.125,
            "rgb(222,235,247)"
           ],
           [
            0.25,
            "rgb(198,219,239)"
           ],
           [
            0.375,
            "rgb(158,202,225)"
           ],
           [
            0.5,
            "rgb(107,174,214)"
           ],
           [
            0.625,
            "rgb(66,146,198)"
           ],
           [
            0.75,
            "rgb(33,113,181)"
           ],
           [
            0.875,
            "rgb(8,81,156)"
           ],
           [
            1,
            "rgb(8,48,107)"
           ]
          ],
          "line": {
           "color": "Grey",
           "width": 0.5
          },
          "showscale": false
         },
         "mode": "markers",
         "name": "Feasible Trial",
         "showlegend": false,
         "type": "scatter",
         "x": [
          9,
          3,
          4,
          10,
          10,
          10,
          8,
          7,
          7,
          8,
          5,
          5,
          6
         ],
         "xaxis": "x10",
         "y": [
          0.7698912852224656,
          0.6114393198035766,
          0.7698913517236163,
          0.8734794330057536,
          0.8737222119064176,
          0.8737222119064176,
          0.8738329339571498,
          0.844776880107388,
          0.8446324267517407,
          0.8449683838995219,
          0.8749540421242425,
          0.8248130811855592,
          0.8610508199439727
         ],
         "yaxis": "y10"
        },
        {
         "marker": {
          "color": [
           4,
           6,
           8,
           10,
           11,
           12,
           13,
           14,
           15,
           16,
           17,
           18,
           19
          ],
          "colorbar": {
           "title": {
            "text": "Trial"
           },
           "x": 1,
           "xpad": 40
          },
          "colorscale": [
           [
            0,
            "rgb(247,251,255)"
           ],
           [
            0.125,
            "rgb(222,235,247)"
           ],
           [
            0.25,
            "rgb(198,219,239)"
           ],
           [
            0.375,
            "rgb(158,202,225)"
           ],
           [
            0.5,
            "rgb(107,174,214)"
           ],
           [
            0.625,
            "rgb(66,146,198)"
           ],
           [
            0.75,
            "rgb(33,113,181)"
           ],
           [
            0.875,
            "rgb(8,81,156)"
           ],
           [
            1,
            "rgb(8,48,107)"
           ]
          ],
          "line": {
           "color": "Grey",
           "width": 0.5
          },
          "showscale": false
         },
         "mode": "markers",
         "name": "Feasible Trial",
         "showlegend": false,
         "type": "scatter",
         "x": [
          168,
          104,
          168,
          10,
          12,
          12,
          12,
          65,
          52,
          56,
          31,
          97,
          42
         ],
         "xaxis": "x11",
         "y": [
          0.7698912852224656,
          0.6114393198035766,
          0.7698913517236163,
          0.8734794330057536,
          0.8737222119064176,
          0.8737222119064176,
          0.8738329339571498,
          0.844776880107388,
          0.8446324267517407,
          0.8449683838995219,
          0.8749540421242425,
          0.8248130811855592,
          0.8610508199439727
         ],
         "yaxis": "y11"
        },
        {
         "marker": {
          "color": [
           0,
           1,
           2,
           3,
           4,
           5,
           6,
           7,
           8,
           9,
           10,
           11,
           12,
           13,
           14,
           15,
           16,
           17,
           18,
           19
          ],
          "colorbar": {
           "title": {
            "text": "Trial"
           },
           "x": 1,
           "xpad": 40
          },
          "colorscale": [
           [
            0,
            "rgb(247,251,255)"
           ],
           [
            0.125,
            "rgb(222,235,247)"
           ],
           [
            0.25,
            "rgb(198,219,239)"
           ],
           [
            0.375,
            "rgb(158,202,225)"
           ],
           [
            0.5,
            "rgb(107,174,214)"
           ],
           [
            0.625,
            "rgb(66,146,198)"
           ],
           [
            0.75,
            "rgb(33,113,181)"
           ],
           [
            0.875,
            "rgb(8,81,156)"
           ],
           [
            1,
            "rgb(8,48,107)"
           ]
          ],
          "line": {
           "color": "Grey",
           "width": 0.5
          },
          "showscale": false
         },
         "mode": "markers",
         "name": "Feasible Trial",
         "showlegend": false,
         "type": "scatter",
         "x": [
          "median",
          "mean",
          "most_frequent",
          "mean",
          "mean",
          "most_frequent",
          "median",
          "mean",
          "mean",
          "most_frequent",
          "most_frequent",
          "most_frequent",
          "most_frequent",
          "most_frequent",
          "most_frequent",
          "most_frequent",
          "most_frequent",
          "median",
          "median",
          "median"
         ],
         "xaxis": "x12",
         "y": [
          0.3153501100507703,
          0.3072373974040764,
          0.8306916973676375,
          0.31262042115435607,
          0.7698912852224656,
          0.7539600713760047,
          0.6114393198035766,
          0.3177486367141714,
          0.7698913517236163,
          0.3248474987807247,
          0.8734794330057536,
          0.8737222119064176,
          0.8737222119064176,
          0.8738329339571498,
          0.844776880107388,
          0.8446324267517407,
          0.8449683838995219,
          0.8749540421242425,
          0.8248130811855592,
          0.8610508199439727
         ],
         "yaxis": "y12"
        },
        {
         "marker": {
          "color": [
           0,
           1,
           2,
           3,
           4,
           5,
           6,
           7,
           8,
           9,
           10,
           11,
           12,
           13,
           14,
           15,
           16,
           17,
           18,
           19
          ],
          "colorbar": {
           "title": {
            "text": "Trial"
           },
           "x": 1,
           "xpad": 40
          },
          "colorscale": [
           [
            0,
            "rgb(247,251,255)"
           ],
           [
            0.125,
            "rgb(222,235,247)"
           ],
           [
            0.25,
            "rgb(198,219,239)"
           ],
           [
            0.375,
            "rgb(158,202,225)"
           ],
           [
            0.5,
            "rgb(107,174,214)"
           ],
           [
            0.625,
            "rgb(66,146,198)"
           ],
           [
            0.75,
            "rgb(33,113,181)"
           ],
           [
            0.875,
            "rgb(8,81,156)"
           ],
           [
            1,
            "rgb(8,48,107)"
           ]
          ],
          "line": {
           "color": "Grey",
           "width": 0.5
          },
          "showscale": false
         },
         "mode": "markers",
         "name": "Feasible Trial",
         "showlegend": false,
         "type": "scatter",
         "x": [
          "MinMaxScaler",
          "MinMaxScaler",
          "StandardScaler",
          "MinMaxScaler",
          "StandardScaler",
          "StandardScaler",
          "StandardScaler",
          "MinMaxScaler",
          "StandardScaler",
          "MinMaxScaler",
          "StandardScaler",
          "StandardScaler",
          "StandardScaler",
          "StandardScaler",
          "StandardScaler",
          "StandardScaler",
          "StandardScaler",
          "StandardScaler",
          "StandardScaler",
          "StandardScaler"
         ],
         "xaxis": "x13",
         "y": [
          0.3153501100507703,
          0.3072373974040764,
          0.8306916973676375,
          0.31262042115435607,
          0.7698912852224656,
          0.7539600713760047,
          0.6114393198035766,
          0.3177486367141714,
          0.7698913517236163,
          0.3248474987807247,
          0.8734794330057536,
          0.8737222119064176,
          0.8737222119064176,
          0.8738329339571498,
          0.844776880107388,
          0.8446324267517407,
          0.8449683838995219,
          0.8749540421242425,
          0.8248130811855592,
          0.8610508199439727
         ],
         "yaxis": "y13"
        },
        {
         "marker": {
          "color": [
           0,
           1,
           2,
           3,
           4,
           5,
           6,
           7,
           8,
           9,
           10,
           11,
           12,
           13,
           14,
           15,
           16,
           17,
           18,
           19
          ],
          "colorbar": {
           "title": {
            "text": "Trial"
           },
           "x": 1,
           "xpad": 40
          },
          "colorscale": [
           [
            0,
            "rgb(247,251,255)"
           ],
           [
            0.125,
            "rgb(222,235,247)"
           ],
           [
            0.25,
            "rgb(198,219,239)"
           ],
           [
            0.375,
            "rgb(158,202,225)"
           ],
           [
            0.5,
            "rgb(107,174,214)"
           ],
           [
            0.625,
            "rgb(66,146,198)"
           ],
           [
            0.75,
            "rgb(33,113,181)"
           ],
           [
            0.875,
            "rgb(8,81,156)"
           ],
           [
            1,
            "rgb(8,48,107)"
           ]
          ],
          "line": {
           "color": "Grey",
           "width": 0.5
          },
          "showscale": false
         },
         "mode": "markers",
         "name": "Feasible Trial",
         "showlegend": false,
         "type": "scatter",
         "x": [
          "NN",
          "NN",
          "NN",
          "NN",
          "RandomForest",
          "NN",
          "RandomForest",
          "NN",
          "RandomForest",
          "NN",
          "RandomForest",
          "RandomForest",
          "RandomForest",
          "RandomForest",
          "RandomForest",
          "RandomForest",
          "RandomForest",
          "RandomForest",
          "RandomForest",
          "RandomForest"
         ],
         "xaxis": "x14",
         "y": [
          0.3153501100507703,
          0.3072373974040764,
          0.8306916973676375,
          0.31262042115435607,
          0.7698912852224656,
          0.7539600713760047,
          0.6114393198035766,
          0.3177486367141714,
          0.7698913517236163,
          0.3248474987807247,
          0.8734794330057536,
          0.8737222119064176,
          0.8737222119064176,
          0.8738329339571498,
          0.844776880107388,
          0.8446324267517407,
          0.8449683838995219,
          0.8749540421242425,
          0.8248130811855592,
          0.8610508199439727
         ],
         "yaxis": "y14"
        }
       ],
       "layout": {
        "template": {
         "data": {
          "bar": [
           {
            "error_x": {
             "color": "#2a3f5f"
            },
            "error_y": {
             "color": "#2a3f5f"
            },
            "marker": {
             "line": {
              "color": "#E5ECF6",
              "width": 0.5
             },
             "pattern": {
              "fillmode": "overlay",
              "size": 10,
              "solidity": 0.2
             }
            },
            "type": "bar"
           }
          ],
          "barpolar": [
           {
            "marker": {
             "line": {
              "color": "#E5ECF6",
              "width": 0.5
             },
             "pattern": {
              "fillmode": "overlay",
              "size": 10,
              "solidity": 0.2
             }
            },
            "type": "barpolar"
           }
          ],
          "carpet": [
           {
            "aaxis": {
             "endlinecolor": "#2a3f5f",
             "gridcolor": "white",
             "linecolor": "white",
             "minorgridcolor": "white",
             "startlinecolor": "#2a3f5f"
            },
            "baxis": {
             "endlinecolor": "#2a3f5f",
             "gridcolor": "white",
             "linecolor": "white",
             "minorgridcolor": "white",
             "startlinecolor": "#2a3f5f"
            },
            "type": "carpet"
           }
          ],
          "choropleth": [
           {
            "colorbar": {
             "outlinewidth": 0,
             "ticks": ""
            },
            "type": "choropleth"
           }
          ],
          "contour": [
           {
            "colorbar": {
             "outlinewidth": 0,
             "ticks": ""
            },
            "colorscale": [
             [
              0,
              "#0d0887"
             ],
             [
              0.1111111111111111,
              "#46039f"
             ],
             [
              0.2222222222222222,
              "#7201a8"
             ],
             [
              0.3333333333333333,
              "#9c179e"
             ],
             [
              0.4444444444444444,
              "#bd3786"
             ],
             [
              0.5555555555555556,
              "#d8576b"
             ],
             [
              0.6666666666666666,
              "#ed7953"
             ],
             [
              0.7777777777777778,
              "#fb9f3a"
             ],
             [
              0.8888888888888888,
              "#fdca26"
             ],
             [
              1,
              "#f0f921"
             ]
            ],
            "type": "contour"
           }
          ],
          "contourcarpet": [
           {
            "colorbar": {
             "outlinewidth": 0,
             "ticks": ""
            },
            "type": "contourcarpet"
           }
          ],
          "heatmap": [
           {
            "colorbar": {
             "outlinewidth": 0,
             "ticks": ""
            },
            "colorscale": [
             [
              0,
              "#0d0887"
             ],
             [
              0.1111111111111111,
              "#46039f"
             ],
             [
              0.2222222222222222,
              "#7201a8"
             ],
             [
              0.3333333333333333,
              "#9c179e"
             ],
             [
              0.4444444444444444,
              "#bd3786"
             ],
             [
              0.5555555555555556,
              "#d8576b"
             ],
             [
              0.6666666666666666,
              "#ed7953"
             ],
             [
              0.7777777777777778,
              "#fb9f3a"
             ],
             [
              0.8888888888888888,
              "#fdca26"
             ],
             [
              1,
              "#f0f921"
             ]
            ],
            "type": "heatmap"
           }
          ],
          "heatmapgl": [
           {
            "colorbar": {
             "outlinewidth": 0,
             "ticks": ""
            },
            "colorscale": [
             [
              0,
              "#0d0887"
             ],
             [
              0.1111111111111111,
              "#46039f"
             ],
             [
              0.2222222222222222,
              "#7201a8"
             ],
             [
              0.3333333333333333,
              "#9c179e"
             ],
             [
              0.4444444444444444,
              "#bd3786"
             ],
             [
              0.5555555555555556,
              "#d8576b"
             ],
             [
              0.6666666666666666,
              "#ed7953"
             ],
             [
              0.7777777777777778,
              "#fb9f3a"
             ],
             [
              0.8888888888888888,
              "#fdca26"
             ],
             [
              1,
              "#f0f921"
             ]
            ],
            "type": "heatmapgl"
           }
          ],
          "histogram": [
           {
            "marker": {
             "pattern": {
              "fillmode": "overlay",
              "size": 10,
              "solidity": 0.2
             }
            },
            "type": "histogram"
           }
          ],
          "histogram2d": [
           {
            "colorbar": {
             "outlinewidth": 0,
             "ticks": ""
            },
            "colorscale": [
             [
              0,
              "#0d0887"
             ],
             [
              0.1111111111111111,
              "#46039f"
             ],
             [
              0.2222222222222222,
              "#7201a8"
             ],
             [
              0.3333333333333333,
              "#9c179e"
             ],
             [
              0.4444444444444444,
              "#bd3786"
             ],
             [
              0.5555555555555556,
              "#d8576b"
             ],
             [
              0.6666666666666666,
              "#ed7953"
             ],
             [
              0.7777777777777778,
              "#fb9f3a"
             ],
             [
              0.8888888888888888,
              "#fdca26"
             ],
             [
              1,
              "#f0f921"
             ]
            ],
            "type": "histogram2d"
           }
          ],
          "histogram2dcontour": [
           {
            "colorbar": {
             "outlinewidth": 0,
             "ticks": ""
            },
            "colorscale": [
             [
              0,
              "#0d0887"
             ],
             [
              0.1111111111111111,
              "#46039f"
             ],
             [
              0.2222222222222222,
              "#7201a8"
             ],
             [
              0.3333333333333333,
              "#9c179e"
             ],
             [
              0.4444444444444444,
              "#bd3786"
             ],
             [
              0.5555555555555556,
              "#d8576b"
             ],
             [
              0.6666666666666666,
              "#ed7953"
             ],
             [
              0.7777777777777778,
              "#fb9f3a"
             ],
             [
              0.8888888888888888,
              "#fdca26"
             ],
             [
              1,
              "#f0f921"
             ]
            ],
            "type": "histogram2dcontour"
           }
          ],
          "mesh3d": [
           {
            "colorbar": {
             "outlinewidth": 0,
             "ticks": ""
            },
            "type": "mesh3d"
           }
          ],
          "parcoords": [
           {
            "line": {
             "colorbar": {
              "outlinewidth": 0,
              "ticks": ""
             }
            },
            "type": "parcoords"
           }
          ],
          "pie": [
           {
            "automargin": true,
            "type": "pie"
           }
          ],
          "scatter": [
           {
            "fillpattern": {
             "fillmode": "overlay",
             "size": 10,
             "solidity": 0.2
            },
            "type": "scatter"
           }
          ],
          "scatter3d": [
           {
            "line": {
             "colorbar": {
              "outlinewidth": 0,
              "ticks": ""
             }
            },
            "marker": {
             "colorbar": {
              "outlinewidth": 0,
              "ticks": ""
             }
            },
            "type": "scatter3d"
           }
          ],
          "scattercarpet": [
           {
            "marker": {
             "colorbar": {
              "outlinewidth": 0,
              "ticks": ""
             }
            },
            "type": "scattercarpet"
           }
          ],
          "scattergeo": [
           {
            "marker": {
             "colorbar": {
              "outlinewidth": 0,
              "ticks": ""
             }
            },
            "type": "scattergeo"
           }
          ],
          "scattergl": [
           {
            "marker": {
             "colorbar": {
              "outlinewidth": 0,
              "ticks": ""
             }
            },
            "type": "scattergl"
           }
          ],
          "scattermapbox": [
           {
            "marker": {
             "colorbar": {
              "outlinewidth": 0,
              "ticks": ""
             }
            },
            "type": "scattermapbox"
           }
          ],
          "scatterpolar": [
           {
            "marker": {
             "colorbar": {
              "outlinewidth": 0,
              "ticks": ""
             }
            },
            "type": "scatterpolar"
           }
          ],
          "scatterpolargl": [
           {
            "marker": {
             "colorbar": {
              "outlinewidth": 0,
              "ticks": ""
             }
            },
            "type": "scatterpolargl"
           }
          ],
          "scatterternary": [
           {
            "marker": {
             "colorbar": {
              "outlinewidth": 0,
              "ticks": ""
             }
            },
            "type": "scatterternary"
           }
          ],
          "surface": [
           {
            "colorbar": {
             "outlinewidth": 0,
             "ticks": ""
            },
            "colorscale": [
             [
              0,
              "#0d0887"
             ],
             [
              0.1111111111111111,
              "#46039f"
             ],
             [
              0.2222222222222222,
              "#7201a8"
             ],
             [
              0.3333333333333333,
              "#9c179e"
             ],
             [
              0.4444444444444444,
              "#bd3786"
             ],
             [
              0.5555555555555556,
              "#d8576b"
             ],
             [
              0.6666666666666666,
              "#ed7953"
             ],
             [
              0.7777777777777778,
              "#fb9f3a"
             ],
             [
              0.8888888888888888,
              "#fdca26"
             ],
             [
              1,
              "#f0f921"
             ]
            ],
            "type": "surface"
           }
          ],
          "table": [
           {
            "cells": {
             "fill": {
              "color": "#EBF0F8"
             },
             "line": {
              "color": "white"
             }
            },
            "header": {
             "fill": {
              "color": "#C8D4E3"
             },
             "line": {
              "color": "white"
             }
            },
            "type": "table"
           }
          ]
         },
         "layout": {
          "annotationdefaults": {
           "arrowcolor": "#2a3f5f",
           "arrowhead": 0,
           "arrowwidth": 1
          },
          "autotypenumbers": "strict",
          "coloraxis": {
           "colorbar": {
            "outlinewidth": 0,
            "ticks": ""
           }
          },
          "colorscale": {
           "diverging": [
            [
             0,
             "#8e0152"
            ],
            [
             0.1,
             "#c51b7d"
            ],
            [
             0.2,
             "#de77ae"
            ],
            [
             0.3,
             "#f1b6da"
            ],
            [
             0.4,
             "#fde0ef"
            ],
            [
             0.5,
             "#f7f7f7"
            ],
            [
             0.6,
             "#e6f5d0"
            ],
            [
             0.7,
             "#b8e186"
            ],
            [
             0.8,
             "#7fbc41"
            ],
            [
             0.9,
             "#4d9221"
            ],
            [
             1,
             "#276419"
            ]
           ],
           "sequential": [
            [
             0,
             "#0d0887"
            ],
            [
             0.1111111111111111,
             "#46039f"
            ],
            [
             0.2222222222222222,
             "#7201a8"
            ],
            [
             0.3333333333333333,
             "#9c179e"
            ],
            [
             0.4444444444444444,
             "#bd3786"
            ],
            [
             0.5555555555555556,
             "#d8576b"
            ],
            [
             0.6666666666666666,
             "#ed7953"
            ],
            [
             0.7777777777777778,
             "#fb9f3a"
            ],
            [
             0.8888888888888888,
             "#fdca26"
            ],
            [
             1,
             "#f0f921"
            ]
           ],
           "sequentialminus": [
            [
             0,
             "#0d0887"
            ],
            [
             0.1111111111111111,
             "#46039f"
            ],
            [
             0.2222222222222222,
             "#7201a8"
            ],
            [
             0.3333333333333333,
             "#9c179e"
            ],
            [
             0.4444444444444444,
             "#bd3786"
            ],
            [
             0.5555555555555556,
             "#d8576b"
            ],
            [
             0.6666666666666666,
             "#ed7953"
            ],
            [
             0.7777777777777778,
             "#fb9f3a"
            ],
            [
             0.8888888888888888,
             "#fdca26"
            ],
            [
             1,
             "#f0f921"
            ]
           ]
          },
          "colorway": [
           "#636efa",
           "#EF553B",
           "#00cc96",
           "#ab63fa",
           "#FFA15A",
           "#19d3f3",
           "#FF6692",
           "#B6E880",
           "#FF97FF",
           "#FECB52"
          ],
          "font": {
           "color": "#2a3f5f"
          },
          "geo": {
           "bgcolor": "white",
           "lakecolor": "white",
           "landcolor": "#E5ECF6",
           "showlakes": true,
           "showland": true,
           "subunitcolor": "white"
          },
          "hoverlabel": {
           "align": "left"
          },
          "hovermode": "closest",
          "mapbox": {
           "style": "light"
          },
          "paper_bgcolor": "white",
          "plot_bgcolor": "#E5ECF6",
          "polar": {
           "angularaxis": {
            "gridcolor": "white",
            "linecolor": "white",
            "ticks": ""
           },
           "bgcolor": "#E5ECF6",
           "radialaxis": {
            "gridcolor": "white",
            "linecolor": "white",
            "ticks": ""
           }
          },
          "scene": {
           "xaxis": {
            "backgroundcolor": "#E5ECF6",
            "gridcolor": "white",
            "gridwidth": 2,
            "linecolor": "white",
            "showbackground": true,
            "ticks": "",
            "zerolinecolor": "white"
           },
           "yaxis": {
            "backgroundcolor": "#E5ECF6",
            "gridcolor": "white",
            "gridwidth": 2,
            "linecolor": "white",
            "showbackground": true,
            "ticks": "",
            "zerolinecolor": "white"
           },
           "zaxis": {
            "backgroundcolor": "#E5ECF6",
            "gridcolor": "white",
            "gridwidth": 2,
            "linecolor": "white",
            "showbackground": true,
            "ticks": "",
            "zerolinecolor": "white"
           }
          },
          "shapedefaults": {
           "line": {
            "color": "#2a3f5f"
           }
          },
          "ternary": {
           "aaxis": {
            "gridcolor": "white",
            "linecolor": "white",
            "ticks": ""
           },
           "baxis": {
            "gridcolor": "white",
            "linecolor": "white",
            "ticks": ""
           },
           "bgcolor": "#E5ECF6",
           "caxis": {
            "gridcolor": "white",
            "linecolor": "white",
            "ticks": ""
           }
          },
          "title": {
           "x": 0.05
          },
          "xaxis": {
           "automargin": true,
           "gridcolor": "white",
           "linecolor": "white",
           "ticks": "",
           "title": {
            "standoff": 15
           },
           "zerolinecolor": "white",
           "zerolinewidth": 2
          },
          "yaxis": {
           "automargin": true,
           "gridcolor": "white",
           "linecolor": "white",
           "ticks": "",
           "title": {
            "standoff": 15
           },
           "zerolinecolor": "white",
           "zerolinewidth": 2
          }
         }
        },
        "title": {
         "text": "Slice Plot"
        },
        "width": 4200,
        "xaxis": {
         "anchor": "y",
         "categoryarray": [
          "identity",
          "logistic",
          "tanh",
          "relu"
         ],
         "categoryorder": "array",
         "domain": [
          0,
          0.058163265306122446
         ],
         "title": {
          "text": "activation"
         },
         "type": "category"
        },
        "xaxis10": {
         "anchor": "y10",
         "domain": [
          0.6520408163265305,
          0.710204081632653
         ],
         "title": {
          "text": "min_samples_split"
         }
        },
        "xaxis11": {
         "anchor": "y11",
         "domain": [
          0.7244897959183674,
          0.7826530612244899
         ],
         "title": {
          "text": "n_estimators"
         }
        },
        "xaxis12": {
         "anchor": "y12",
         "categoryarray": [
          "mean",
          "median",
          "most_frequent"
         ],
         "categoryorder": "array",
         "domain": [
          0.7969387755102041,
          0.8551020408163266
         ],
         "title": {
          "text": "num_imputer_strategy"
         },
         "type": "category"
        },
        "xaxis13": {
         "anchor": "y13",
         "categoryarray": [
          "StandardScaler",
          "MinMaxScaler"
         ],
         "categoryorder": "array",
         "domain": [
          0.8693877551020408,
          0.9275510204081633
         ],
         "title": {
          "text": "num_scaler"
         },
         "type": "category"
        },
        "xaxis14": {
         "anchor": "y14",
         "categoryarray": [
          "RandomForest",
          "NN"
         ],
         "categoryorder": "array",
         "domain": [
          0.9418367346938776,
          1
         ],
         "title": {
          "text": "regressor"
         },
         "type": "category"
        },
        "xaxis2": {
         "anchor": "y2",
         "domain": [
          0.07244897959183673,
          0.13061224489795917
         ],
         "title": {
          "text": "alpha"
         }
        },
        "xaxis3": {
         "anchor": "y3",
         "categoryarray": [
          "error",
          "ignore"
         ],
         "categoryorder": "array",
         "domain": [
          0.14489795918367346,
          0.2030612244897959
         ],
         "title": {
          "text": "cat_encoder_handle_unknown"
         },
         "type": "category"
        },
        "xaxis4": {
         "anchor": "y4",
         "categoryarray": [
          "most_frequent",
          "constant"
         ],
         "categoryorder": "array",
         "domain": [
          0.2173469387755102,
          0.2755102040816326
         ],
         "title": {
          "text": "cat_imputer_strategy"
         },
         "type": "category"
        },
        "xaxis5": {
         "anchor": "y5",
         "domain": [
          0.2897959183673469,
          0.34795918367346934
         ],
         "title": {
          "text": "hidden_layer_sizes"
         }
        },
        "xaxis6": {
         "anchor": "y6",
         "domain": [
          0.3622448979591837,
          0.4204081632653061
         ],
         "title": {
          "text": "learning_rate_init"
         }
        },
        "xaxis7": {
         "anchor": "y7",
         "domain": [
          0.4346938775510204,
          0.4928571428571428
         ],
         "title": {
          "text": "max_depth"
         }
        },
        "xaxis8": {
         "anchor": "y8",
         "domain": [
          0.5071428571428571,
          0.5653061224489796
         ],
         "title": {
          "text": "max_iter"
         }
        },
        "xaxis9": {
         "anchor": "y9",
         "domain": [
          0.5795918367346938,
          0.6377551020408163
         ],
         "title": {
          "text": "min_samples_leaf"
         }
        },
        "yaxis": {
         "anchor": "x",
         "domain": [
          0,
          1
         ],
         "title": {
          "text": "Objective Value"
         }
        },
        "yaxis10": {
         "anchor": "x10",
         "domain": [
          0,
          1
         ],
         "matches": "y",
         "showticklabels": false
        },
        "yaxis11": {
         "anchor": "x11",
         "domain": [
          0,
          1
         ],
         "matches": "y",
         "showticklabels": false
        },
        "yaxis12": {
         "anchor": "x12",
         "domain": [
          0,
          1
         ],
         "matches": "y",
         "showticklabels": false
        },
        "yaxis13": {
         "anchor": "x13",
         "domain": [
          0,
          1
         ],
         "matches": "y",
         "showticklabels": false
        },
        "yaxis14": {
         "anchor": "x14",
         "domain": [
          0,
          1
         ],
         "matches": "y",
         "showticklabels": false
        },
        "yaxis2": {
         "anchor": "x2",
         "domain": [
          0,
          1
         ],
         "matches": "y",
         "showticklabels": false
        },
        "yaxis3": {
         "anchor": "x3",
         "domain": [
          0,
          1
         ],
         "matches": "y",
         "showticklabels": false
        },
        "yaxis4": {
         "anchor": "x4",
         "domain": [
          0,
          1
         ],
         "matches": "y",
         "showticklabels": false
        },
        "yaxis5": {
         "anchor": "x5",
         "domain": [
          0,
          1
         ],
         "matches": "y",
         "showticklabels": false
        },
        "yaxis6": {
         "anchor": "x6",
         "domain": [
          0,
          1
         ],
         "matches": "y",
         "showticklabels": false
        },
        "yaxis7": {
         "anchor": "x7",
         "domain": [
          0,
          1
         ],
         "matches": "y",
         "showticklabels": false
        },
        "yaxis8": {
         "anchor": "x8",
         "domain": [
          0,
          1
         ],
         "matches": "y",
         "showticklabels": false
        },
        "yaxis9": {
         "anchor": "x9",
         "domain": [
          0,
          1
         ],
         "matches": "y",
         "showticklabels": false
        }
       }
      },
      "text/html": [
       "<div>                            <div id=\"a06949cd-ad17-494e-8ee4-72b4fe097a65\" class=\"plotly-graph-div\" style=\"height:525px; width:4200px;\"></div>            <script type=\"text/javascript\">                require([\"plotly\"], function(Plotly) {                    window.PLOTLYENV=window.PLOTLYENV || {};                                    if (document.getElementById(\"a06949cd-ad17-494e-8ee4-72b4fe097a65\")) {                    Plotly.newPlot(                        \"a06949cd-ad17-494e-8ee4-72b4fe097a65\",                        [{\"marker\":{\"color\":[0,1,2,3,5,7,9],\"colorbar\":{\"title\":{\"text\":\"Trial\"},\"x\":1.0,\"xpad\":40},\"colorscale\":[[0.0,\"rgb(247,251,255)\"],[0.125,\"rgb(222,235,247)\"],[0.25,\"rgb(198,219,239)\"],[0.375,\"rgb(158,202,225)\"],[0.5,\"rgb(107,174,214)\"],[0.625,\"rgb(66,146,198)\"],[0.75,\"rgb(33,113,181)\"],[0.875,\"rgb(8,81,156)\"],[1.0,\"rgb(8,48,107)\"]],\"line\":{\"color\":\"Grey\",\"width\":0.5},\"showscale\":true},\"mode\":\"markers\",\"name\":\"Feasible Trial\",\"showlegend\":false,\"x\":[\"identity\",\"relu\",\"relu\",\"relu\",\"logistic\",\"identity\",\"relu\"],\"y\":[0.3153501100507703,0.3072373974040764,0.8306916973676375,0.31262042115435607,0.7539600713760047,0.3177486367141714,0.3248474987807247],\"type\":\"scatter\",\"xaxis\":\"x\",\"yaxis\":\"y\"},{\"marker\":{\"color\":[0,1,2,3,5,7,9],\"colorbar\":{\"title\":{\"text\":\"Trial\"},\"x\":1.0,\"xpad\":40},\"colorscale\":[[0.0,\"rgb(247,251,255)\"],[0.125,\"rgb(222,235,247)\"],[0.25,\"rgb(198,219,239)\"],[0.375,\"rgb(158,202,225)\"],[0.5,\"rgb(107,174,214)\"],[0.625,\"rgb(66,146,198)\"],[0.75,\"rgb(33,113,181)\"],[0.875,\"rgb(8,81,156)\"],[1.0,\"rgb(8,48,107)\"]],\"line\":{\"color\":\"Grey\",\"width\":0.5},\"showscale\":false},\"mode\":\"markers\",\"name\":\"Feasible Trial\",\"showlegend\":false,\"x\":[0.0064920912568368315,0.008662170013771486,0.00299423522658494,0.0022215779717613747,0.009370183385629609,0.0010731909899068584,0.005180209598095739],\"y\":[0.3153501100507703,0.3072373974040764,0.8306916973676375,0.31262042115435607,0.7539600713760047,0.3177486367141714,0.3248474987807247],\"type\":\"scatter\",\"xaxis\":\"x2\",\"yaxis\":\"y2\"},{\"marker\":{\"color\":[0,1,2,3,4,5,6,7,8,9,10,11,12,13,14,15,16,17,18,19],\"colorbar\":{\"title\":{\"text\":\"Trial\"},\"x\":1.0,\"xpad\":40},\"colorscale\":[[0.0,\"rgb(247,251,255)\"],[0.125,\"rgb(222,235,247)\"],[0.25,\"rgb(198,219,239)\"],[0.375,\"rgb(158,202,225)\"],[0.5,\"rgb(107,174,214)\"],[0.625,\"rgb(66,146,198)\"],[0.75,\"rgb(33,113,181)\"],[0.875,\"rgb(8,81,156)\"],[1.0,\"rgb(8,48,107)\"]],\"line\":{\"color\":\"Grey\",\"width\":0.5},\"showscale\":false},\"mode\":\"markers\",\"name\":\"Feasible Trial\",\"showlegend\":false,\"x\":[\"ignore\",\"ignore\",\"error\",\"error\",\"ignore\",\"ignore\",\"error\",\"error\",\"ignore\",\"ignore\",\"error\",\"error\",\"error\",\"error\",\"error\",\"error\",\"error\",\"error\",\"error\",\"error\"],\"y\":[0.3153501100507703,0.3072373974040764,0.8306916973676375,0.31262042115435607,0.7698912852224656,0.7539600713760047,0.6114393198035766,0.3177486367141714,0.7698913517236163,0.3248474987807247,0.8734794330057536,0.8737222119064176,0.8737222119064176,0.8738329339571498,0.844776880107388,0.8446324267517407,0.8449683838995219,0.8749540421242425,0.8248130811855592,0.8610508199439727],\"type\":\"scatter\",\"xaxis\":\"x3\",\"yaxis\":\"y3\"},{\"marker\":{\"color\":[0,1,2,3,4,5,6,7,8,9,10,11,12,13,14,15,16,17,18,19],\"colorbar\":{\"title\":{\"text\":\"Trial\"},\"x\":1.0,\"xpad\":40},\"colorscale\":[[0.0,\"rgb(247,251,255)\"],[0.125,\"rgb(222,235,247)\"],[0.25,\"rgb(198,219,239)\"],[0.375,\"rgb(158,202,225)\"],[0.5,\"rgb(107,174,214)\"],[0.625,\"rgb(66,146,198)\"],[0.75,\"rgb(33,113,181)\"],[0.875,\"rgb(8,81,156)\"],[1.0,\"rgb(8,48,107)\"]],\"line\":{\"color\":\"Grey\",\"width\":0.5},\"showscale\":false},\"mode\":\"markers\",\"name\":\"Feasible Trial\",\"showlegend\":false,\"x\":[\"most_frequent\",\"most_frequent\",\"constant\",\"most_frequent\",\"constant\",\"constant\",\"constant\",\"most_frequent\",\"constant\",\"constant\",\"constant\",\"constant\",\"constant\",\"constant\",\"constant\",\"constant\",\"constant\",\"constant\",\"most_frequent\",\"constant\"],\"y\":[0.3153501100507703,0.3072373974040764,0.8306916973676375,0.31262042115435607,0.7698912852224656,0.7539600713760047,0.6114393198035766,0.3177486367141714,0.7698913517236163,0.3248474987807247,0.8734794330057536,0.8737222119064176,0.8737222119064176,0.8738329339571498,0.844776880107388,0.8446324267517407,0.8449683838995219,0.8749540421242425,0.8248130811855592,0.8610508199439727],\"type\":\"scatter\",\"xaxis\":\"x4\",\"yaxis\":\"y4\"},{\"marker\":{\"color\":[0,1,2,3,5,7,9],\"colorbar\":{\"title\":{\"text\":\"Trial\"},\"x\":1.0,\"xpad\":40},\"colorscale\":[[0.0,\"rgb(247,251,255)\"],[0.125,\"rgb(222,235,247)\"],[0.25,\"rgb(198,219,239)\"],[0.375,\"rgb(158,202,225)\"],[0.5,\"rgb(107,174,214)\"],[0.625,\"rgb(66,146,198)\"],[0.75,\"rgb(33,113,181)\"],[0.875,\"rgb(8,81,156)\"],[1.0,\"rgb(8,48,107)\"]],\"line\":{\"color\":\"Grey\",\"width\":0.5},\"showscale\":false},\"mode\":\"markers\",\"name\":\"Feasible Trial\",\"showlegend\":false,\"x\":[73,46,123,247,75,13,222],\"y\":[0.3153501100507703,0.3072373974040764,0.8306916973676375,0.31262042115435607,0.7539600713760047,0.3177486367141714,0.3248474987807247],\"type\":\"scatter\",\"xaxis\":\"x5\",\"yaxis\":\"y5\"},{\"marker\":{\"color\":[0,1,2,3,5,7,9],\"colorbar\":{\"title\":{\"text\":\"Trial\"},\"x\":1.0,\"xpad\":40},\"colorscale\":[[0.0,\"rgb(247,251,255)\"],[0.125,\"rgb(222,235,247)\"],[0.25,\"rgb(198,219,239)\"],[0.375,\"rgb(158,202,225)\"],[0.5,\"rgb(107,174,214)\"],[0.625,\"rgb(66,146,198)\"],[0.75,\"rgb(33,113,181)\"],[0.875,\"rgb(8,81,156)\"],[1.0,\"rgb(8,48,107)\"]],\"line\":{\"color\":\"Grey\",\"width\":0.5},\"showscale\":false},\"mode\":\"markers\",\"name\":\"Feasible Trial\",\"showlegend\":false,\"x\":[0.04108252162104657,0.0929683766029418,0.0756515571202979,0.034329453577165714,0.054548749970741245,0.07461883548787436,0.07237311285137744],\"y\":[0.3153501100507703,0.3072373974040764,0.8306916973676375,0.31262042115435607,0.7539600713760047,0.3177486367141714,0.3248474987807247],\"type\":\"scatter\",\"xaxis\":\"x6\",\"yaxis\":\"y6\"},{\"marker\":{\"color\":[4,6,8,10,11,12,13,14,15,16,17,18,19],\"colorbar\":{\"title\":{\"text\":\"Trial\"},\"x\":1.0,\"xpad\":40},\"colorscale\":[[0.0,\"rgb(247,251,255)\"],[0.125,\"rgb(222,235,247)\"],[0.25,\"rgb(198,219,239)\"],[0.375,\"rgb(158,202,225)\"],[0.5,\"rgb(107,174,214)\"],[0.625,\"rgb(66,146,198)\"],[0.75,\"rgb(33,113,181)\"],[0.875,\"rgb(8,81,156)\"],[1.0,\"rgb(8,48,107)\"]],\"line\":{\"color\":\"Grey\",\"width\":0.5},\"showscale\":false},\"mode\":\"markers\",\"name\":\"Feasible Trial\",\"showlegend\":false,\"x\":[5,2,5,10,10,10,10,8,8,8,10,7,9],\"y\":[0.7698912852224656,0.6114393198035766,0.7698913517236163,0.8734794330057536,0.8737222119064176,0.8737222119064176,0.8738329339571498,0.844776880107388,0.8446324267517407,0.8449683838995219,0.8749540421242425,0.8248130811855592,0.8610508199439727],\"type\":\"scatter\",\"xaxis\":\"x7\",\"yaxis\":\"y7\"},{\"marker\":{\"color\":[0,1,2,3,5,7,9],\"colorbar\":{\"title\":{\"text\":\"Trial\"},\"x\":1.0,\"xpad\":40},\"colorscale\":[[0.0,\"rgb(247,251,255)\"],[0.125,\"rgb(222,235,247)\"],[0.25,\"rgb(198,219,239)\"],[0.375,\"rgb(158,202,225)\"],[0.5,\"rgb(107,174,214)\"],[0.625,\"rgb(66,146,198)\"],[0.75,\"rgb(33,113,181)\"],[0.875,\"rgb(8,81,156)\"],[1.0,\"rgb(8,48,107)\"]],\"line\":{\"color\":\"Grey\",\"width\":0.5},\"showscale\":false},\"mode\":\"markers\",\"name\":\"Feasible Trial\",\"showlegend\":false,\"x\":[32,26,64,20,23,45,92],\"y\":[0.3153501100507703,0.3072373974040764,0.8306916973676375,0.31262042115435607,0.7539600713760047,0.3177486367141714,0.3248474987807247],\"type\":\"scatter\",\"xaxis\":\"x8\",\"yaxis\":\"y8\"},{\"marker\":{\"color\":[4,6,8,10,11,12,13,14,15,16,17,18,19],\"colorbar\":{\"title\":{\"text\":\"Trial\"},\"x\":1.0,\"xpad\":40},\"colorscale\":[[0.0,\"rgb(247,251,255)\"],[0.125,\"rgb(222,235,247)\"],[0.25,\"rgb(198,219,239)\"],[0.375,\"rgb(158,202,225)\"],[0.5,\"rgb(107,174,214)\"],[0.625,\"rgb(66,146,198)\"],[0.75,\"rgb(33,113,181)\"],[0.875,\"rgb(8,81,156)\"],[1.0,\"rgb(8,48,107)\"]],\"line\":{\"color\":\"Grey\",\"width\":0.5},\"showscale\":false},\"mode\":\"markers\",\"name\":\"Feasible Trial\",\"showlegend\":false,\"x\":[5,4,4,1,1,1,1,2,2,2,1,3,1],\"y\":[0.7698912852224656,0.6114393198035766,0.7698913517236163,0.8734794330057536,0.8737222119064176,0.8737222119064176,0.8738329339571498,0.844776880107388,0.8446324267517407,0.8449683838995219,0.8749540421242425,0.8248130811855592,0.8610508199439727],\"type\":\"scatter\",\"xaxis\":\"x9\",\"yaxis\":\"y9\"},{\"marker\":{\"color\":[4,6,8,10,11,12,13,14,15,16,17,18,19],\"colorbar\":{\"title\":{\"text\":\"Trial\"},\"x\":1.0,\"xpad\":40},\"colorscale\":[[0.0,\"rgb(247,251,255)\"],[0.125,\"rgb(222,235,247)\"],[0.25,\"rgb(198,219,239)\"],[0.375,\"rgb(158,202,225)\"],[0.5,\"rgb(107,174,214)\"],[0.625,\"rgb(66,146,198)\"],[0.75,\"rgb(33,113,181)\"],[0.875,\"rgb(8,81,156)\"],[1.0,\"rgb(8,48,107)\"]],\"line\":{\"color\":\"Grey\",\"width\":0.5},\"showscale\":false},\"mode\":\"markers\",\"name\":\"Feasible Trial\",\"showlegend\":false,\"x\":[9,3,4,10,10,10,8,7,7,8,5,5,6],\"y\":[0.7698912852224656,0.6114393198035766,0.7698913517236163,0.8734794330057536,0.8737222119064176,0.8737222119064176,0.8738329339571498,0.844776880107388,0.8446324267517407,0.8449683838995219,0.8749540421242425,0.8248130811855592,0.8610508199439727],\"type\":\"scatter\",\"xaxis\":\"x10\",\"yaxis\":\"y10\"},{\"marker\":{\"color\":[4,6,8,10,11,12,13,14,15,16,17,18,19],\"colorbar\":{\"title\":{\"text\":\"Trial\"},\"x\":1.0,\"xpad\":40},\"colorscale\":[[0.0,\"rgb(247,251,255)\"],[0.125,\"rgb(222,235,247)\"],[0.25,\"rgb(198,219,239)\"],[0.375,\"rgb(158,202,225)\"],[0.5,\"rgb(107,174,214)\"],[0.625,\"rgb(66,146,198)\"],[0.75,\"rgb(33,113,181)\"],[0.875,\"rgb(8,81,156)\"],[1.0,\"rgb(8,48,107)\"]],\"line\":{\"color\":\"Grey\",\"width\":0.5},\"showscale\":false},\"mode\":\"markers\",\"name\":\"Feasible Trial\",\"showlegend\":false,\"x\":[168,104,168,10,12,12,12,65,52,56,31,97,42],\"y\":[0.7698912852224656,0.6114393198035766,0.7698913517236163,0.8734794330057536,0.8737222119064176,0.8737222119064176,0.8738329339571498,0.844776880107388,0.8446324267517407,0.8449683838995219,0.8749540421242425,0.8248130811855592,0.8610508199439727],\"type\":\"scatter\",\"xaxis\":\"x11\",\"yaxis\":\"y11\"},{\"marker\":{\"color\":[0,1,2,3,4,5,6,7,8,9,10,11,12,13,14,15,16,17,18,19],\"colorbar\":{\"title\":{\"text\":\"Trial\"},\"x\":1.0,\"xpad\":40},\"colorscale\":[[0.0,\"rgb(247,251,255)\"],[0.125,\"rgb(222,235,247)\"],[0.25,\"rgb(198,219,239)\"],[0.375,\"rgb(158,202,225)\"],[0.5,\"rgb(107,174,214)\"],[0.625,\"rgb(66,146,198)\"],[0.75,\"rgb(33,113,181)\"],[0.875,\"rgb(8,81,156)\"],[1.0,\"rgb(8,48,107)\"]],\"line\":{\"color\":\"Grey\",\"width\":0.5},\"showscale\":false},\"mode\":\"markers\",\"name\":\"Feasible Trial\",\"showlegend\":false,\"x\":[\"median\",\"mean\",\"most_frequent\",\"mean\",\"mean\",\"most_frequent\",\"median\",\"mean\",\"mean\",\"most_frequent\",\"most_frequent\",\"most_frequent\",\"most_frequent\",\"most_frequent\",\"most_frequent\",\"most_frequent\",\"most_frequent\",\"median\",\"median\",\"median\"],\"y\":[0.3153501100507703,0.3072373974040764,0.8306916973676375,0.31262042115435607,0.7698912852224656,0.7539600713760047,0.6114393198035766,0.3177486367141714,0.7698913517236163,0.3248474987807247,0.8734794330057536,0.8737222119064176,0.8737222119064176,0.8738329339571498,0.844776880107388,0.8446324267517407,0.8449683838995219,0.8749540421242425,0.8248130811855592,0.8610508199439727],\"type\":\"scatter\",\"xaxis\":\"x12\",\"yaxis\":\"y12\"},{\"marker\":{\"color\":[0,1,2,3,4,5,6,7,8,9,10,11,12,13,14,15,16,17,18,19],\"colorbar\":{\"title\":{\"text\":\"Trial\"},\"x\":1.0,\"xpad\":40},\"colorscale\":[[0.0,\"rgb(247,251,255)\"],[0.125,\"rgb(222,235,247)\"],[0.25,\"rgb(198,219,239)\"],[0.375,\"rgb(158,202,225)\"],[0.5,\"rgb(107,174,214)\"],[0.625,\"rgb(66,146,198)\"],[0.75,\"rgb(33,113,181)\"],[0.875,\"rgb(8,81,156)\"],[1.0,\"rgb(8,48,107)\"]],\"line\":{\"color\":\"Grey\",\"width\":0.5},\"showscale\":false},\"mode\":\"markers\",\"name\":\"Feasible Trial\",\"showlegend\":false,\"x\":[\"MinMaxScaler\",\"MinMaxScaler\",\"StandardScaler\",\"MinMaxScaler\",\"StandardScaler\",\"StandardScaler\",\"StandardScaler\",\"MinMaxScaler\",\"StandardScaler\",\"MinMaxScaler\",\"StandardScaler\",\"StandardScaler\",\"StandardScaler\",\"StandardScaler\",\"StandardScaler\",\"StandardScaler\",\"StandardScaler\",\"StandardScaler\",\"StandardScaler\",\"StandardScaler\"],\"y\":[0.3153501100507703,0.3072373974040764,0.8306916973676375,0.31262042115435607,0.7698912852224656,0.7539600713760047,0.6114393198035766,0.3177486367141714,0.7698913517236163,0.3248474987807247,0.8734794330057536,0.8737222119064176,0.8737222119064176,0.8738329339571498,0.844776880107388,0.8446324267517407,0.8449683838995219,0.8749540421242425,0.8248130811855592,0.8610508199439727],\"type\":\"scatter\",\"xaxis\":\"x13\",\"yaxis\":\"y13\"},{\"marker\":{\"color\":[0,1,2,3,4,5,6,7,8,9,10,11,12,13,14,15,16,17,18,19],\"colorbar\":{\"title\":{\"text\":\"Trial\"},\"x\":1.0,\"xpad\":40},\"colorscale\":[[0.0,\"rgb(247,251,255)\"],[0.125,\"rgb(222,235,247)\"],[0.25,\"rgb(198,219,239)\"],[0.375,\"rgb(158,202,225)\"],[0.5,\"rgb(107,174,214)\"],[0.625,\"rgb(66,146,198)\"],[0.75,\"rgb(33,113,181)\"],[0.875,\"rgb(8,81,156)\"],[1.0,\"rgb(8,48,107)\"]],\"line\":{\"color\":\"Grey\",\"width\":0.5},\"showscale\":false},\"mode\":\"markers\",\"name\":\"Feasible Trial\",\"showlegend\":false,\"x\":[\"NN\",\"NN\",\"NN\",\"NN\",\"RandomForest\",\"NN\",\"RandomForest\",\"NN\",\"RandomForest\",\"NN\",\"RandomForest\",\"RandomForest\",\"RandomForest\",\"RandomForest\",\"RandomForest\",\"RandomForest\",\"RandomForest\",\"RandomForest\",\"RandomForest\",\"RandomForest\"],\"y\":[0.3153501100507703,0.3072373974040764,0.8306916973676375,0.31262042115435607,0.7698912852224656,0.7539600713760047,0.6114393198035766,0.3177486367141714,0.7698913517236163,0.3248474987807247,0.8734794330057536,0.8737222119064176,0.8737222119064176,0.8738329339571498,0.844776880107388,0.8446324267517407,0.8449683838995219,0.8749540421242425,0.8248130811855592,0.8610508199439727],\"type\":\"scatter\",\"xaxis\":\"x14\",\"yaxis\":\"y14\"}],                        {\"template\":{\"data\":{\"histogram2dcontour\":[{\"type\":\"histogram2dcontour\",\"colorbar\":{\"outlinewidth\":0,\"ticks\":\"\"},\"colorscale\":[[0.0,\"#0d0887\"],[0.1111111111111111,\"#46039f\"],[0.2222222222222222,\"#7201a8\"],[0.3333333333333333,\"#9c179e\"],[0.4444444444444444,\"#bd3786\"],[0.5555555555555556,\"#d8576b\"],[0.6666666666666666,\"#ed7953\"],[0.7777777777777778,\"#fb9f3a\"],[0.8888888888888888,\"#fdca26\"],[1.0,\"#f0f921\"]]}],\"choropleth\":[{\"type\":\"choropleth\",\"colorbar\":{\"outlinewidth\":0,\"ticks\":\"\"}}],\"histogram2d\":[{\"type\":\"histogram2d\",\"colorbar\":{\"outlinewidth\":0,\"ticks\":\"\"},\"colorscale\":[[0.0,\"#0d0887\"],[0.1111111111111111,\"#46039f\"],[0.2222222222222222,\"#7201a8\"],[0.3333333333333333,\"#9c179e\"],[0.4444444444444444,\"#bd3786\"],[0.5555555555555556,\"#d8576b\"],[0.6666666666666666,\"#ed7953\"],[0.7777777777777778,\"#fb9f3a\"],[0.8888888888888888,\"#fdca26\"],[1.0,\"#f0f921\"]]}],\"heatmap\":[{\"type\":\"heatmap\",\"colorbar\":{\"outlinewidth\":0,\"ticks\":\"\"},\"colorscale\":[[0.0,\"#0d0887\"],[0.1111111111111111,\"#46039f\"],[0.2222222222222222,\"#7201a8\"],[0.3333333333333333,\"#9c179e\"],[0.4444444444444444,\"#bd3786\"],[0.5555555555555556,\"#d8576b\"],[0.6666666666666666,\"#ed7953\"],[0.7777777777777778,\"#fb9f3a\"],[0.8888888888888888,\"#fdca26\"],[1.0,\"#f0f921\"]]}],\"heatmapgl\":[{\"type\":\"heatmapgl\",\"colorbar\":{\"outlinewidth\":0,\"ticks\":\"\"},\"colorscale\":[[0.0,\"#0d0887\"],[0.1111111111111111,\"#46039f\"],[0.2222222222222222,\"#7201a8\"],[0.3333333333333333,\"#9c179e\"],[0.4444444444444444,\"#bd3786\"],[0.5555555555555556,\"#d8576b\"],[0.6666666666666666,\"#ed7953\"],[0.7777777777777778,\"#fb9f3a\"],[0.8888888888888888,\"#fdca26\"],[1.0,\"#f0f921\"]]}],\"contourcarpet\":[{\"type\":\"contourcarpet\",\"colorbar\":{\"outlinewidth\":0,\"ticks\":\"\"}}],\"contour\":[{\"type\":\"contour\",\"colorbar\":{\"outlinewidth\":0,\"ticks\":\"\"},\"colorscale\":[[0.0,\"#0d0887\"],[0.1111111111111111,\"#46039f\"],[0.2222222222222222,\"#7201a8\"],[0.3333333333333333,\"#9c179e\"],[0.4444444444444444,\"#bd3786\"],[0.5555555555555556,\"#d8576b\"],[0.6666666666666666,\"#ed7953\"],[0.7777777777777778,\"#fb9f3a\"],[0.8888888888888888,\"#fdca26\"],[1.0,\"#f0f921\"]]}],\"surface\":[{\"type\":\"surface\",\"colorbar\":{\"outlinewidth\":0,\"ticks\":\"\"},\"colorscale\":[[0.0,\"#0d0887\"],[0.1111111111111111,\"#46039f\"],[0.2222222222222222,\"#7201a8\"],[0.3333333333333333,\"#9c179e\"],[0.4444444444444444,\"#bd3786\"],[0.5555555555555556,\"#d8576b\"],[0.6666666666666666,\"#ed7953\"],[0.7777777777777778,\"#fb9f3a\"],[0.8888888888888888,\"#fdca26\"],[1.0,\"#f0f921\"]]}],\"mesh3d\":[{\"type\":\"mesh3d\",\"colorbar\":{\"outlinewidth\":0,\"ticks\":\"\"}}],\"scatter\":[{\"fillpattern\":{\"fillmode\":\"overlay\",\"size\":10,\"solidity\":0.2},\"type\":\"scatter\"}],\"parcoords\":[{\"type\":\"parcoords\",\"line\":{\"colorbar\":{\"outlinewidth\":0,\"ticks\":\"\"}}}],\"scatterpolargl\":[{\"type\":\"scatterpolargl\",\"marker\":{\"colorbar\":{\"outlinewidth\":0,\"ticks\":\"\"}}}],\"bar\":[{\"error_x\":{\"color\":\"#2a3f5f\"},\"error_y\":{\"color\":\"#2a3f5f\"},\"marker\":{\"line\":{\"color\":\"#E5ECF6\",\"width\":0.5},\"pattern\":{\"fillmode\":\"overlay\",\"size\":10,\"solidity\":0.2}},\"type\":\"bar\"}],\"scattergeo\":[{\"type\":\"scattergeo\",\"marker\":{\"colorbar\":{\"outlinewidth\":0,\"ticks\":\"\"}}}],\"scatterpolar\":[{\"type\":\"scatterpolar\",\"marker\":{\"colorbar\":{\"outlinewidth\":0,\"ticks\":\"\"}}}],\"histogram\":[{\"marker\":{\"pattern\":{\"fillmode\":\"overlay\",\"size\":10,\"solidity\":0.2}},\"type\":\"histogram\"}],\"scattergl\":[{\"type\":\"scattergl\",\"marker\":{\"colorbar\":{\"outlinewidth\":0,\"ticks\":\"\"}}}],\"scatter3d\":[{\"type\":\"scatter3d\",\"line\":{\"colorbar\":{\"outlinewidth\":0,\"ticks\":\"\"}},\"marker\":{\"colorbar\":{\"outlinewidth\":0,\"ticks\":\"\"}}}],\"scattermapbox\":[{\"type\":\"scattermapbox\",\"marker\":{\"colorbar\":{\"outlinewidth\":0,\"ticks\":\"\"}}}],\"scatterternary\":[{\"type\":\"scatterternary\",\"marker\":{\"colorbar\":{\"outlinewidth\":0,\"ticks\":\"\"}}}],\"scattercarpet\":[{\"type\":\"scattercarpet\",\"marker\":{\"colorbar\":{\"outlinewidth\":0,\"ticks\":\"\"}}}],\"carpet\":[{\"aaxis\":{\"endlinecolor\":\"#2a3f5f\",\"gridcolor\":\"white\",\"linecolor\":\"white\",\"minorgridcolor\":\"white\",\"startlinecolor\":\"#2a3f5f\"},\"baxis\":{\"endlinecolor\":\"#2a3f5f\",\"gridcolor\":\"white\",\"linecolor\":\"white\",\"minorgridcolor\":\"white\",\"startlinecolor\":\"#2a3f5f\"},\"type\":\"carpet\"}],\"table\":[{\"cells\":{\"fill\":{\"color\":\"#EBF0F8\"},\"line\":{\"color\":\"white\"}},\"header\":{\"fill\":{\"color\":\"#C8D4E3\"},\"line\":{\"color\":\"white\"}},\"type\":\"table\"}],\"barpolar\":[{\"marker\":{\"line\":{\"color\":\"#E5ECF6\",\"width\":0.5},\"pattern\":{\"fillmode\":\"overlay\",\"size\":10,\"solidity\":0.2}},\"type\":\"barpolar\"}],\"pie\":[{\"automargin\":true,\"type\":\"pie\"}]},\"layout\":{\"autotypenumbers\":\"strict\",\"colorway\":[\"#636efa\",\"#EF553B\",\"#00cc96\",\"#ab63fa\",\"#FFA15A\",\"#19d3f3\",\"#FF6692\",\"#B6E880\",\"#FF97FF\",\"#FECB52\"],\"font\":{\"color\":\"#2a3f5f\"},\"hovermode\":\"closest\",\"hoverlabel\":{\"align\":\"left\"},\"paper_bgcolor\":\"white\",\"plot_bgcolor\":\"#E5ECF6\",\"polar\":{\"bgcolor\":\"#E5ECF6\",\"angularaxis\":{\"gridcolor\":\"white\",\"linecolor\":\"white\",\"ticks\":\"\"},\"radialaxis\":{\"gridcolor\":\"white\",\"linecolor\":\"white\",\"ticks\":\"\"}},\"ternary\":{\"bgcolor\":\"#E5ECF6\",\"aaxis\":{\"gridcolor\":\"white\",\"linecolor\":\"white\",\"ticks\":\"\"},\"baxis\":{\"gridcolor\":\"white\",\"linecolor\":\"white\",\"ticks\":\"\"},\"caxis\":{\"gridcolor\":\"white\",\"linecolor\":\"white\",\"ticks\":\"\"}},\"coloraxis\":{\"colorbar\":{\"outlinewidth\":0,\"ticks\":\"\"}},\"colorscale\":{\"sequential\":[[0.0,\"#0d0887\"],[0.1111111111111111,\"#46039f\"],[0.2222222222222222,\"#7201a8\"],[0.3333333333333333,\"#9c179e\"],[0.4444444444444444,\"#bd3786\"],[0.5555555555555556,\"#d8576b\"],[0.6666666666666666,\"#ed7953\"],[0.7777777777777778,\"#fb9f3a\"],[0.8888888888888888,\"#fdca26\"],[1.0,\"#f0f921\"]],\"sequentialminus\":[[0.0,\"#0d0887\"],[0.1111111111111111,\"#46039f\"],[0.2222222222222222,\"#7201a8\"],[0.3333333333333333,\"#9c179e\"],[0.4444444444444444,\"#bd3786\"],[0.5555555555555556,\"#d8576b\"],[0.6666666666666666,\"#ed7953\"],[0.7777777777777778,\"#fb9f3a\"],[0.8888888888888888,\"#fdca26\"],[1.0,\"#f0f921\"]],\"diverging\":[[0,\"#8e0152\"],[0.1,\"#c51b7d\"],[0.2,\"#de77ae\"],[0.3,\"#f1b6da\"],[0.4,\"#fde0ef\"],[0.5,\"#f7f7f7\"],[0.6,\"#e6f5d0\"],[0.7,\"#b8e186\"],[0.8,\"#7fbc41\"],[0.9,\"#4d9221\"],[1,\"#276419\"]]},\"xaxis\":{\"gridcolor\":\"white\",\"linecolor\":\"white\",\"ticks\":\"\",\"title\":{\"standoff\":15},\"zerolinecolor\":\"white\",\"automargin\":true,\"zerolinewidth\":2},\"yaxis\":{\"gridcolor\":\"white\",\"linecolor\":\"white\",\"ticks\":\"\",\"title\":{\"standoff\":15},\"zerolinecolor\":\"white\",\"automargin\":true,\"zerolinewidth\":2},\"scene\":{\"xaxis\":{\"backgroundcolor\":\"#E5ECF6\",\"gridcolor\":\"white\",\"linecolor\":\"white\",\"showbackground\":true,\"ticks\":\"\",\"zerolinecolor\":\"white\",\"gridwidth\":2},\"yaxis\":{\"backgroundcolor\":\"#E5ECF6\",\"gridcolor\":\"white\",\"linecolor\":\"white\",\"showbackground\":true,\"ticks\":\"\",\"zerolinecolor\":\"white\",\"gridwidth\":2},\"zaxis\":{\"backgroundcolor\":\"#E5ECF6\",\"gridcolor\":\"white\",\"linecolor\":\"white\",\"showbackground\":true,\"ticks\":\"\",\"zerolinecolor\":\"white\",\"gridwidth\":2}},\"shapedefaults\":{\"line\":{\"color\":\"#2a3f5f\"}},\"annotationdefaults\":{\"arrowcolor\":\"#2a3f5f\",\"arrowhead\":0,\"arrowwidth\":1},\"geo\":{\"bgcolor\":\"white\",\"landcolor\":\"#E5ECF6\",\"subunitcolor\":\"white\",\"showland\":true,\"showlakes\":true,\"lakecolor\":\"white\"},\"title\":{\"x\":0.05},\"mapbox\":{\"style\":\"light\"}}},\"xaxis\":{\"anchor\":\"y\",\"domain\":[0.0,0.058163265306122446],\"title\":{\"text\":\"activation\"},\"type\":\"category\",\"categoryorder\":\"array\",\"categoryarray\":[\"identity\",\"logistic\",\"tanh\",\"relu\"]},\"yaxis\":{\"anchor\":\"x\",\"domain\":[0.0,1.0],\"title\":{\"text\":\"Objective Value\"}},\"xaxis2\":{\"anchor\":\"y2\",\"domain\":[0.07244897959183673,0.13061224489795917],\"title\":{\"text\":\"alpha\"}},\"yaxis2\":{\"anchor\":\"x2\",\"domain\":[0.0,1.0],\"matches\":\"y\",\"showticklabels\":false},\"xaxis3\":{\"anchor\":\"y3\",\"domain\":[0.14489795918367346,0.2030612244897959],\"title\":{\"text\":\"cat_encoder_handle_unknown\"},\"type\":\"category\",\"categoryorder\":\"array\",\"categoryarray\":[\"error\",\"ignore\"]},\"yaxis3\":{\"anchor\":\"x3\",\"domain\":[0.0,1.0],\"matches\":\"y\",\"showticklabels\":false},\"xaxis4\":{\"anchor\":\"y4\",\"domain\":[0.2173469387755102,0.2755102040816326],\"title\":{\"text\":\"cat_imputer_strategy\"},\"type\":\"category\",\"categoryorder\":\"array\",\"categoryarray\":[\"most_frequent\",\"constant\"]},\"yaxis4\":{\"anchor\":\"x4\",\"domain\":[0.0,1.0],\"matches\":\"y\",\"showticklabels\":false},\"xaxis5\":{\"anchor\":\"y5\",\"domain\":[0.2897959183673469,0.34795918367346934],\"title\":{\"text\":\"hidden_layer_sizes\"}},\"yaxis5\":{\"anchor\":\"x5\",\"domain\":[0.0,1.0],\"matches\":\"y\",\"showticklabels\":false},\"xaxis6\":{\"anchor\":\"y6\",\"domain\":[0.3622448979591837,0.4204081632653061],\"title\":{\"text\":\"learning_rate_init\"}},\"yaxis6\":{\"anchor\":\"x6\",\"domain\":[0.0,1.0],\"matches\":\"y\",\"showticklabels\":false},\"xaxis7\":{\"anchor\":\"y7\",\"domain\":[0.4346938775510204,0.4928571428571428],\"title\":{\"text\":\"max_depth\"}},\"yaxis7\":{\"anchor\":\"x7\",\"domain\":[0.0,1.0],\"matches\":\"y\",\"showticklabels\":false},\"xaxis8\":{\"anchor\":\"y8\",\"domain\":[0.5071428571428571,0.5653061224489796],\"title\":{\"text\":\"max_iter\"}},\"yaxis8\":{\"anchor\":\"x8\",\"domain\":[0.0,1.0],\"matches\":\"y\",\"showticklabels\":false},\"xaxis9\":{\"anchor\":\"y9\",\"domain\":[0.5795918367346938,0.6377551020408163],\"title\":{\"text\":\"min_samples_leaf\"}},\"yaxis9\":{\"anchor\":\"x9\",\"domain\":[0.0,1.0],\"matches\":\"y\",\"showticklabels\":false},\"xaxis10\":{\"anchor\":\"y10\",\"domain\":[0.6520408163265305,0.710204081632653],\"title\":{\"text\":\"min_samples_split\"}},\"yaxis10\":{\"anchor\":\"x10\",\"domain\":[0.0,1.0],\"matches\":\"y\",\"showticklabels\":false},\"xaxis11\":{\"anchor\":\"y11\",\"domain\":[0.7244897959183674,0.7826530612244899],\"title\":{\"text\":\"n_estimators\"}},\"yaxis11\":{\"anchor\":\"x11\",\"domain\":[0.0,1.0],\"matches\":\"y\",\"showticklabels\":false},\"xaxis12\":{\"anchor\":\"y12\",\"domain\":[0.7969387755102041,0.8551020408163266],\"title\":{\"text\":\"num_imputer_strategy\"},\"type\":\"category\",\"categoryorder\":\"array\",\"categoryarray\":[\"mean\",\"median\",\"most_frequent\"]},\"yaxis12\":{\"anchor\":\"x12\",\"domain\":[0.0,1.0],\"matches\":\"y\",\"showticklabels\":false},\"xaxis13\":{\"anchor\":\"y13\",\"domain\":[0.8693877551020408,0.9275510204081633],\"title\":{\"text\":\"num_scaler\"},\"type\":\"category\",\"categoryorder\":\"array\",\"categoryarray\":[\"StandardScaler\",\"MinMaxScaler\"]},\"yaxis13\":{\"anchor\":\"x13\",\"domain\":[0.0,1.0],\"matches\":\"y\",\"showticklabels\":false},\"xaxis14\":{\"anchor\":\"y14\",\"domain\":[0.9418367346938776,1.0],\"title\":{\"text\":\"regressor\"},\"type\":\"category\",\"categoryorder\":\"array\",\"categoryarray\":[\"RandomForest\",\"NN\"]},\"yaxis14\":{\"anchor\":\"x14\",\"domain\":[0.0,1.0],\"matches\":\"y\",\"showticklabels\":false},\"title\":{\"text\":\"Slice Plot\"},\"width\":4200},                        {\"responsive\": true}                    ).then(function(){\n",
       "                            \n",
       "var gd = document.getElementById('a06949cd-ad17-494e-8ee4-72b4fe097a65');\n",
       "var x = new MutationObserver(function (mutations, observer) {{\n",
       "        var display = window.getComputedStyle(gd).display;\n",
       "        if (!display || display === 'none') {{\n",
       "            console.log([gd, 'removed!']);\n",
       "            Plotly.purge(gd);\n",
       "            observer.disconnect();\n",
       "        }}\n",
       "}});\n",
       "\n",
       "// Listen for the removal of the full notebook cells\n",
       "var notebookContainer = gd.closest('#notebook-container');\n",
       "if (notebookContainer) {{\n",
       "    x.observe(notebookContainer, {childList: true});\n",
       "}}\n",
       "\n",
       "// Listen for the clearing of the current output cell\n",
       "var outputEl = gd.closest('.output');\n",
       "if (outputEl) {{\n",
       "    x.observe(outputEl, {childList: true});\n",
       "}}\n",
       "\n",
       "                        })                };                });            </script>        </div>"
      ]
     },
     "metadata": {},
     "output_type": "display_data"
    }
   ],
   "source": [
    "# Convert X_train and X_test back to pandas DataFrame\n",
    "# X_train_df = pd.DataFrame(X_train)\n",
    "# X_test_df = pd.DataFrame(X_test)\n",
    "X = pd.DataFrame(X)\n",
    "\n",
    "# Before Optimization process (for the default hyperparameters)\n",
    "base_pipeline = Pipeline(steps=[\n",
    "    ('preprocessor', ColumnTransformer(transformers=[\n",
    "        ('num', Pipeline(steps=[\n",
    "            ('imputer', SimpleImputer(strategy='mean')),\n",
    "            ('scaler', StandardScaler())\n",
    "        ]), X.select_dtypes(include=['int64', 'float64']).columns),\n",
    "        ('cat', Pipeline(steps=[\n",
    "            ('imputer', SimpleImputer(strategy='most_frequent')),\n",
    "            ('onehot', OneHotEncoder(handle_unknown='error'))\n",
    "        ]), X.select_dtypes(include=['object']).columns)\n",
    "    ])),\n",
    "    ('regressor', RandomForestRegressor(random_state=42))\n",
    "])\n",
    "\n",
    "base_pipeline.fit(X_train, y_train)\n",
    "y_base_pred = base_pipeline.predict(X_test)\n",
    "accuracy_base = r2_score(y_test, y_base_pred)\n",
    "\n",
    "print(\"Base Accuracy: {}\".format(accuracy_base))\n",
    "\n",
    "# Optimization\n",
    "study = optuna.create_study(direction='maximize')\n",
    "study.optimize(objective, n_trials=20)\n",
    "\n",
    "# After Optimization\n",
    "best_trial = study.best_trial\n",
    "best_params = best_trial.params\n",
    "\n",
    "print('Optimized Accuracy: {}'.format(best_trial.value))\n",
    "print(\"Best Hyperparameters: {}\".format(best_params))\n",
    "\n",
    "vis.plot_optimization_history(study)\n",
    "vis.plot_slice(study)"
   ]
  },
  {
   "cell_type": "code",
   "execution_count": 130,
   "metadata": {},
   "outputs": [],
   "source": [
    "# best hyperparameters are assigned to variables\n",
    "best_regressor = best_params['regressor']\n",
    "best_n_estimators = best_params['n_estimators']\n",
    "best_max_depth = best_params['max_depth']\n",
    "best_min_samples_split = best_params['min_samples_split']\n",
    "best_min_samples_leaf = best_params['min_samples_leaf']\n",
    "best_num_imputer_strategy = best_params['num_imputer_strategy']\n",
    "# hyperparameters for preprocessing\n",
    "\n",
    "best_num_imputer_strategy = best_params['num_imputer_strategy']\n",
    "best_num_scaler = best_params['num_scaler']\n",
    "best_cat_imputer_strategy = best_params['cat_imputer_strategy']\n",
    "best_cat_encoder_handle_unknown = best_params['cat_encoder_handle_unknown']\n",
    "\n",
    "# Define the parameter space for Random Forest\n",
    "rf_param_space = {\n",
    "    'n_estimators': best_n_estimators,\n",
    "    'max_depth': best_max_depth,\n",
    "    'min_samples_split': best_min_samples_split,\n",
    "    'min_samples_leaf': best_min_samples_leaf\n",
    "}\n",
    "\n",
    "# following hyperparameters for preprocessing\n",
    "hyper_prepro = {\n",
    "    'num_imputer_strategy':best_num_imputer_strategy, \n",
    "    'num_scaler': best_num_scaler,\n",
    "    'cat_imputer_strategy': best_cat_imputer_strategy,\n",
    "    'cat_encoder_handle_unknown': best_cat_encoder_handle_unknown,\n",
    "}\n",
    "\n",
    "# # predict the result with RF\n",
    "# best_regressor = RandomForestRegressor(random_state=42, **rf_param_space)\n",
    "# best_regressor.fit(X_train, y_train)\n",
    "\n",
    "# # predict the result\n",
    "# y_pred = best_regressor.predict(X_test)"
   ]
  },
  {
   "cell_type": "code",
   "execution_count": 131,
   "metadata": {},
   "outputs": [],
   "source": [
    "# performing the preprocessing with the best values after HPO for preprocessing\n",
    "numeric_transformer = Pipeline(steps=[\n",
    "    ('imputer', SimpleImputer(strategy=best_num_imputer_strategy)),\n",
    "    ('scaler', StandardScaler() if best_num_scaler == 'StandardScaler' else MinMaxScaler())\n",
    "])\n",
    "\n",
    "categorical_transformer = Pipeline(steps=[\n",
    "    ('imputer', SimpleImputer(strategy=best_cat_imputer_strategy)),\n",
    "    ('onehot', OneHotEncoder(handle_unknown=best_cat_encoder_handle_unknown))\n",
    "])\n",
    "\n",
    "preprocessor = ColumnTransformer(\n",
    "    transformers=[\n",
    "        ('num', numeric_transformer, numeric_features),\n",
    "        ('cat', categorical_transformer, categorical_features)\n",
    "    ])\n",
    "\n",
    "regr = RandomForestRegressor()\n",
    "pipeline = Pipeline(steps=[\n",
    "    ('preprocessor', preprocessor),\n",
    "    ('regressor', regr)\n",
    "])\n",
    "\n",
    "pipeline.fit(X_train, y_train)\n",
    "\n",
    "y_pred = pipeline.predict(X_test)\n",
    "accuracy = r2_score(y_test, y_pred)"
   ]
  },
  {
   "cell_type": "markdown",
   "metadata": {},
   "source": [
    "Result of the model after optimization for RF algorithm"
   ]
  },
  {
   "cell_type": "code",
   "execution_count": 132,
   "metadata": {},
   "outputs": [
    {
     "name": "stdout",
     "output_type": "stream",
     "text": [
      "The Model performance parameter after HPO using Bayesian Optimizatoin in RF algorithm:\n",
      "Mean Squared Error: 133591.9353054647\n",
      "Mean Absolute Error: 261.3727069243754\n",
      "r2_score: 0.9336260549961892\n"
     ]
    },
    {
     "data": {
      "image/png": "[encoded data removed]",
      "text/plain": [
       "<Figure size 640x480 with 1 Axes>"
      ]
     },
     "metadata": {},
     "output_type": "display_data"
    }
   ],
   "source": [
    "R2_score = r2_score(y_test, y_pred)\n",
    "mae = mean_absolute_error(y_test, y_pred)\n",
    "mse = mean_squared_error(y_test, y_pred)\n",
    "\n",
    "print(\"The Model performance parameter after HPO using Bayesian Optimizatoin in RF algorithm:\")\n",
    "print(\"Mean Squared Error:\", mse)\n",
    "print(\"Mean Absolute Error:\", mae)\n",
    "print(\"r2_score:\", R2_score)\n",
    "\n",
    "plt.plot(y_pred,y_test, '.')\n",
    "plt.plot([min(y_test), max(y_test)], [min(y_test), max(y_test)], color='red', linestyle='--', label='Perfect fit')\n",
    "plt.title('Random Forest Regression')\n",
    "plt.xlabel('Actual Test value')\n",
    "plt.ylabel('Predicted System Load')\n",
    "plt.grid(True)\n",
    "plt.show()"
   ]
  },
  {
   "cell_type": "markdown",
   "metadata": {},
   "source": [
    "evaluate the model performance now"
   ]
  },
  {
   "cell_type": "code",
   "execution_count": 133,
   "metadata": {},
   "outputs": [
    {
     "name": "stdout",
     "output_type": "stream",
     "text": [
      "The Model performance parameter after HPO using Bayesian Optimizatoin in RF algorithm:\n",
      "Mean Squared Error: 133591.9353054647\n",
      "Mean Absolute Error: 261.3727069243754\n",
      "r2_score: 0.9336260549961892\n"
     ]
    },
    {
     "data": {
      "image/png": "[encoded data removed]",
      "text/plain": [
       "<Figure size 640x480 with 1 Axes>"
      ]
     },
     "metadata": {},
     "output_type": "display_data"
    }
   ],
   "source": [
    "R2_score = r2_score(y_test, y_pred)\n",
    "mae = mean_absolute_error(y_test, y_pred)\n",
    "mse = mean_squared_error(y_test, y_pred)\n",
    "\n",
    "print(\"The Model performance parameter after HPO using Bayesian Optimizatoin in RF algorithm:\")\n",
    "print(\"Mean Squared Error:\", mse)\n",
    "print(\"Mean Absolute Error:\", mae)\n",
    "print(\"r2_score:\", R2_score)\n",
    "\n",
    "plt.plot(y_pred,y_test, '.')\n",
    "plt.plot([min(y_test), max(y_test)], [min(y_test), max(y_test)], color='red', linestyle='--', label='Perfect fit')\n",
    "plt.title('Random Forest Regression')\n",
    "plt.xlabel('Actual Test value')\n",
    "plt.ylabel('Predicted System Load')\n",
    "plt.grid(True)\n",
    "plt.show()"
   ]
  },
  {
   "cell_type": "code",
   "execution_count": 134,
   "metadata": {},
   "outputs": [
    {
     "name": "stderr",
     "output_type": "stream",
     "text": [
      "C:\\ProgramData\\anaconda3\\lib\\site-packages\\sklearn\\neural_network\\_multilayer_perceptron.py:684: ConvergenceWarning:\n",
      "\n",
      "Stochastic Optimizer: Maximum iterations (200) reached and the optimization hasn't converged yet.\n",
      "\n"
     ]
    }
   ],
   "source": [
    "regr = MLPRegressor()\n",
    "pipeline = Pipeline(steps=[\n",
    "    ('preprocessor', preprocessor),\n",
    "    ('regressor', regr)\n",
    "])\n",
    "\n",
    "pipeline.fit(X_train, y_train)\n",
    "\n",
    "y_pred = pipeline.predict(X_test)\n",
    "accuracy = r2_score(y_test, y_pred)"
   ]
  },
  {
   "cell_type": "code",
   "execution_count": 135,
   "metadata": {},
   "outputs": [
    {
     "name": "stdout",
     "output_type": "stream",
     "text": [
      "The Model performance parameter after HPO using Random Search Optimization in NN algorithm:\n",
      "Mean Squared Error: 547656.2675421466\n",
      "Mean Absolute Error: 602.6200334939634\n",
      "r2_score: 0.7279019358487595\n"
     ]
    },
    {
     "data": {
      "image/png": "[encoded data removed]",
      "text/plain": [
       "<Figure size 640x480 with 1 Axes>"
      ]
     },
     "metadata": {},
     "output_type": "display_data"
    }
   ],
   "source": [
    "R2_score = r2_score(y_test, y_pred)\n",
    "mae = mean_absolute_error(y_test, y_pred)\n",
    "mse = mean_squared_error(y_test, y_pred)\n",
    "print(\"The Model performance parameter after HPO using Random Search Optimization in NN algorithm:\")\n",
    "print(\"Mean Squared Error:\", mse)\n",
    "print(\"Mean Absolute Error:\", mae)\n",
    "print(\"r2_score:\", R2_score)\n",
    "\n",
    "# Plotting the results (optional)\n",
    "plt.plot([min(y_test), max(y_test)], [min(y_test), max(y_test)], color='red', linestyle='--', label='Perfect fit')\n",
    "plt.scatter(y_test, y_pred, color='blue')\n",
    "plt.title('Neural Network')\n",
    "plt.xlabel('Actual values')\n",
    "plt.ylabel('Predicted values')\n",
    "plt.grid(True)\n",
    "plt.show()"
   ]
  },
  {
   "cell_type": "code",
   "execution_count": 136,
   "metadata": {},
   "outputs": [
    {
     "name": "stdout",
     "output_type": "stream",
     "text": [
      "Best Random Forest score: 0.9277332071320142\n",
      "Best Neural Network score: 0.8636858712596227\n"
     ]
    },
    {
     "name": "stderr",
     "output_type": "stream",
     "text": [
      "C:\\ProgramData\\anaconda3\\lib\\site-packages\\sklearn\\neural_network\\_multilayer_perceptron.py:684: ConvergenceWarning:\n",
      "\n",
      "Stochastic Optimizer: Maximum iterations (100) reached and the optimization hasn't converged yet.\n",
      "\n"
     ]
    }
   ],
   "source": [
    "# Define the pipeline for Random Forest\n",
    "\n",
    "rf_pipeline = Pipeline([\n",
    "    ('imputer', SimpleImputer(strategy=best_num_imputer_strategy)),\n",
    "    ('scaler',  StandardScaler() if best_num_scaler == 'StandardScaler' else MinMaxScaler()),\n",
    "    ('regressor', RandomForestRegressor())\n",
    "])\n",
    "\n",
    "# Define the parameter space for Random Forest\n",
    "# rf_param_space = {\n",
    "#     'n_estimators': Integer(10, 1000),\n",
    "#     'max_depth': Integer(3, 40),\n",
    "#     'min_samples_split': Integer(2, 10),\n",
    "#     'min_samples_leaf': Integer(1, 5)\n",
    "# }\n",
    "\n",
    "rf_param_space = {\n",
    "    'regressor__n_estimators': Integer(10, 1000),\n",
    "    'regressor__max_depth': Integer(3, 40),\n",
    "    'regressor__min_samples_split': Integer(2, 10),\n",
    "    'regressor__min_samples_leaf': Integer(1, 5)\n",
    "}\n",
    "\n",
    "# Perform hyperparameter optimization for Random Forest\n",
    "rf_optimizer = BayesSearchCV(\n",
    "    rf_pipeline, \n",
    "    rf_param_space, \n",
    "    n_iter=20, \n",
    "    cv=5, \n",
    "    n_jobs=-1\n",
    ")\n",
    "rf_optimizer.fit(X_train, y_train)\n",
    "\n",
    "# Define the pipeline for Neural Network\n",
    "# values for parameters will be selected from preprocessor\n",
    "nn_pipeline = Pipeline([\n",
    "    ('imputer', SimpleImputer(strategy=best_num_imputer_strategy)),\n",
    "    ('scaler',  StandardScaler() if best_num_scaler == 'StandardScaler' else MinMaxScaler()),\n",
    "    ('regressor', MLPRegressor())\n",
    "])\n",
    "\n",
    "# Define the parameter space for Neural Network\n",
    "# nn_param_space = {\n",
    "#     'hidden_layer_sizes': Integer(8, 256, prior='log-uniform'),\n",
    "#     # 'regressor__hidden_layer_sizes':[(x, y, z) for x in range(10, 101) \n",
    "#     #                                   for y in range(10, 101) \n",
    "#     #                                   for z in range(10, 101)],\n",
    "#     'activation': Categorical(['identity', 'logistic', 'tanh', 'relu']),\n",
    "#     'alpha': Real(1e-5, 1e-2, prior='log-uniform'),\n",
    "#     'max_iter': Integer(10, 100),\n",
    "#     'learning_rate_init': Real(0.0001, 0.1, prior='log-uniform')\n",
    "# }\n",
    "\n",
    "nn_param_space = {\n",
    "    'regressor__hidden_layer_sizes': Integer(8, 256, prior='log-uniform'),\n",
    "    'regressor__activation': Categorical(['identity', 'logistic', 'tanh', 'relu']),\n",
    "    'regressor__alpha': Real(1e-5, 1e-2, prior='log-uniform'),\n",
    "    'regressor__max_iter': Integer(10, 100),\n",
    "    'regressor__learning_rate_init': Real(0.0001, 0.1, prior='log-uniform')\n",
    "}\n",
    "\n",
    "\n",
    "# Perform hyperparameter optimization for Neural Network\n",
    "nn_optimizer = BayesSearchCV(\n",
    "    nn_pipeline, \n",
    "    nn_param_space, \n",
    "    n_iter=20, \n",
    "    cv=5, \n",
    "    n_jobs=-1\n",
    ")\n",
    "nn_optimizer.fit(X_train, y_train)\n",
    "\n",
    "# Evaluate the best models\n",
    "rf_best_score = rf_optimizer.best_score_\n",
    "nn_best_score = nn_optimizer.best_score_\n",
    "\n",
    "print(f\"Best Random Forest score: {rf_best_score}\")\n",
    "print(f\"Best Neural Network score: {nn_best_score}\")\n"
   ]
  },
  {
   "cell_type": "markdown",
   "metadata": {},
   "source": [
    "Neural Network Model for prediction and performance evaluation"
   ]
  },
  {
   "cell_type": "code",
   "execution_count": 137,
   "metadata": {},
   "outputs": [
    {
     "name": "stdout",
     "output_type": "stream",
     "text": [
      "Predicted values:\n",
      "(17530,)\n",
      "The Model performance parameter after HPO using Random Search Optimization in NN algorithm:\n",
      "Mean Squared Error: 397228.7157783409\n",
      "Mean Absolute Error: 438.9131921480781\n",
      "r2_score: 0.8026405046478322\n"
     ]
    },
    {
     "data": {
      "image/png": "[encoded data removed]",
      "text/plain": [
       "<Figure size 640x480 with 1 Axes>"
      ]
     },
     "metadata": {},
     "output_type": "display_data"
    }
   ],
   "source": [
    "# Get the best model from hyperparameter optimization\n",
    "best_nn_model = nn_optimizer.best_estimator_\n",
    "\n",
    "# Make predictions on the test data\n",
    "y_pred = best_nn_model.predict(X_test)\n",
    "\n",
    "# Print the predicted values\n",
    "print(\"Predicted values:\")\n",
    "print(y_pred.shape)\n",
    "\n",
    "R2_score = r2_score(y_test, y_pred)\n",
    "mae = mean_absolute_error(y_test, y_pred)\n",
    "mse = mean_squared_error(y_test, y_pred)\n",
    "print(\"The Model performance parameter after HPO using Random Search Optimization in NN algorithm:\")\n",
    "print(\"Mean Squared Error:\", mse)\n",
    "print(\"Mean Absolute Error:\", mae)\n",
    "print(\"r2_score:\", R2_score)\n",
    "\n",
    "# Plotting the results (optional)\n",
    "plt.plot([min(y_test), max(y_test)], [min(y_test), max(y_test)], color='red', linestyle='--', label='Perfect fit')\n",
    "plt.scatter(y_test, y_pred, color='blue')\n",
    "plt.title('Neural Network')\n",
    "plt.xlabel('Actual values')\n",
    "plt.ylabel('Predicted values')\n",
    "plt.grid(True)\n",
    "plt.show()"
   ]
  },
  {
   "cell_type": "markdown",
   "metadata": {},
   "source": [
    "using random forest method for prediction and performance evaluation"
   ]
  },
  {
   "cell_type": "code",
   "execution_count": 138,
   "metadata": {},
   "outputs": [
    {
     "name": "stdout",
     "output_type": "stream",
     "text": [
      "Predicted values:\n",
      "(17530,)\n",
      "The Model performance parameter after HPO using Random Search Optimization in RF algorithm:\n",
      "Mean Squared Error: 131529.2585305997\n",
      "Mean Absolute Error: 259.5866549292246\n",
      "r2_score: 0.9346508772992907\n"
     ]
    },
    {
     "data": {
      "image/png": "[encoded data removed]",
      "text/plain": [
       "<Figure size 640x480 with 1 Axes>"
      ]
     },
     "metadata": {},
     "output_type": "display_data"
    }
   ],
   "source": [
    "# Get the best model from hyperparameter optimization\n",
    "best_rf_model = rf_optimizer.best_estimator_\n",
    "\n",
    "# Make predictions on the test data\n",
    "y_pred = best_rf_model.predict(X_test)\n",
    "\n",
    "# Print the predicted values\n",
    "print(\"Predicted values:\")\n",
    "print(y_pred.shape)\n",
    "\n",
    "R2_score = r2_score(y_test, y_pred)\n",
    "mae = mean_absolute_error(y_test, y_pred)\n",
    "mse = mean_squared_error(y_test, y_pred)\n",
    "print(\"The Model performance parameter after HPO using Random Search Optimization in RF algorithm:\")\n",
    "print(\"Mean Squared Error:\", mse)\n",
    "print(\"Mean Absolute Error:\", mae)\n",
    "print(\"r2_score:\", R2_score)\n",
    "\n",
    "# Plotting the results (optional)\n",
    "plt.plot([min(y_test), max(y_test)], [min(y_test), max(y_test)], color='red', linestyle='--', label='Perfect fit')\n",
    "plt.scatter(y_test, y_pred, color='blue')\n",
    "plt.title('Random Forest')\n",
    "plt.xlabel('Actual values')\n",
    "plt.ylabel('Predicted values')\n",
    "plt.grid(True)\n",
    "plt.show()"
   ]
  }
 ],
 "metadata": {
  "kernelspec": {
   "display_name": "Python 3 (ipykernel)",
   "language": "python",
   "name": "python3"
  },
  "language_info": {
   "codemirror_mode": {
    "name": "ipython",
    "version": 3
   },
   "file_extension": ".py",
   "mimetype": "text/x-python",
   "name": "python",
   "nbconvert_exporter": "python",
   "pygments_lexer": "ipython3",
   "version": "3.10.9"
  }
 },
 "nbformat": 4,
 "nbformat_minor": 2
}
