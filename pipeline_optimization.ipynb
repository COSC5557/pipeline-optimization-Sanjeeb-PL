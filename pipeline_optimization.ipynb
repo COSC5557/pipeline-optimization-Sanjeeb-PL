{
 "cells": [
  {
   "cell_type": "markdown",
   "metadata": {},
   "source": [
    "importing the modules required for neural network"
   ]
  },
  {
   "cell_type": "code",
   "execution_count": 23,
   "metadata": {},
   "outputs": [],
   "source": [
    "import numpy as np\n",
    "import seaborn as sns\n",
    "from sklearn.ensemble import RandomForestRegressor\n",
    "from sklearn.metrics import mean_squared_error, mean_absolute_error, r2_score\n",
    "import torch\n",
    "import torch.nn as nn\n",
    "import torch.optim as optim\n",
    "from torch.utils.data import DataLoader, TensorDataset, random_split\n",
    "\n",
    "# libraries for pipleline optimization\n",
    "import pandas as pd\n",
    "from sklearn.model_selection import train_test_split, cross_val_score, RandomizedSearchCV\n",
    "from sklearn.preprocessing import StandardScaler, OneHotEncoder\n",
    "from sklearn.decomposition import PCA\n",
    "from sklearn.compose import ColumnTransformer\n",
    "import time\n",
    "import matplotlib.pyplot as plt\n",
    "from sklearn.model_selection import KFold\n",
    "from skopt import gp_minimize\n",
    "from skopt.space import Categorical\n",
    "from sklearn.neural_network import MLPRegressor\n",
    "from sklearn.pipeline import Pipeline\n",
    "from sklearn.impute import SimpleImputer\n",
    "\n",
    "from skopt import BayesSearchCV\n",
    "from skopt.space import Real, Integer, Categorical\n",
    "# references: https://knowledge.dataiku.com/latest/data-preparation/pipelines/concept-pipeline-optimization.html\n",
    "#https://machinelearningmastery.com/modeling-pipeline-optimization-with-scikit-learn/"
   ]
  },
  {
   "cell_type": "markdown",
   "metadata": {},
   "source": [
    "libraries added to implement bayesian optimization"
   ]
  },
  {
   "cell_type": "code",
   "execution_count": 24,
   "metadata": {},
   "outputs": [],
   "source": [
    "# import warnings\n",
    "# from bayes_opt.constraint import ConstraintModel\n",
    "# from bayes_opt import BayesianOptimization, UtilityFunction, util\n",
    "# # from .target_space import TargetSpace\n",
    "# # from .event import Events, DEFAULT_EVENTS\n",
    "# # from .logger import _get_default_logger\n",
    "# # from .util import UtilityFunction, acq_max, ensure_rng\n",
    "# from sklearn.gaussian_process.kernels import Matern\n",
    "# from sklearn.gaussian_process import GaussianProcessRegressor\n",
    "# from sklearn.metrics import roc_auc_score"
   ]
  },
  {
   "cell_type": "markdown",
   "metadata": {},
   "source": [
    "importing the dataset"
   ]
  },
  {
   "cell_type": "code",
   "execution_count": 25,
   "metadata": {},
   "outputs": [
    {
     "name": "stdout",
     "output_type": "stream",
     "text": [
      "                   Date  DryBulb  DewPnt  WetBulb  Humidity  ElecPrice  Day  \\\n",
      "0         1/1/2006 0:30    23.90   21.65    22.40     87.50      19.67    1   \n",
      "1         1/1/2006 1:00    23.90   21.70    22.40     88.00      18.56    1   \n",
      "2         1/1/2006 1:30    23.80   21.65    22.35     88.00      19.09    1   \n",
      "3         1/1/2006 2:00    23.70   21.60    22.30     88.00      17.40    1   \n",
      "4         1/1/2006 2:30    23.70   21.60    22.30     88.00      17.00    1   \n",
      "...                 ...      ...     ...      ...       ...        ...  ...   \n",
      "87643  31/12/2010 22:00    22.60   19.10    20.40     81.00      23.86   31   \n",
      "87644  31/12/2010 22:30    22.45   19.05    20.30     81.50      26.49   31   \n",
      "87645  31/12/2010 23:00    22.30   19.00    20.20     82.00      25.18   31   \n",
      "87646  31/12/2010 23:30    22.05   19.05    20.15     83.50      26.19   31   \n",
      "87647     1/1/2011 0:00    21.80   19.10    20.10     85.00      24.62    1   \n",
      "\n",
      "       Month  Year  Minutes  SYSLoad  \n",
      "0          1  2006       30  8013.28  \n",
      "1          1  2006       60  7726.89  \n",
      "2          1  2006       90  7372.86  \n",
      "3          1  2006      120  7071.83  \n",
      "4          1  2006      150  6865.44  \n",
      "...      ...   ...      ...      ...  \n",
      "87643     12  2010     1320  8449.54  \n",
      "87644     12  2010     1350  8508.16  \n",
      "87645     12  2010     1380  8413.14  \n",
      "87646     12  2010     1410  8173.79  \n",
      "87647      1  2011        0  8063.36  \n",
      "\n",
      "[87648 rows x 11 columns]\n"
     ]
    }
   ],
   "source": [
    "df = pd.read_csv(\"ercot-dataset.csv\", sep=',')\n",
    "# to change the float to two decimal places following code is used\n",
    "pd.set_option('display.float_format', lambda x: '%.2f' % x)\n",
    "#df = df.iloc[:80000]\n",
    "print(df)"
   ]
  },
  {
   "cell_type": "code",
   "execution_count": 26,
   "metadata": {},
   "outputs": [
    {
     "name": "stdout",
     "output_type": "stream",
     "text": [
      "<class 'pandas.core.frame.DataFrame'>\n",
      "RangeIndex: 87648 entries, 0 to 87647\n",
      "Data columns (total 11 columns):\n",
      " #   Column     Non-Null Count  Dtype  \n",
      "---  ------     --------------  -----  \n",
      " 0   Date       87648 non-null  object \n",
      " 1   DryBulb    87648 non-null  float64\n",
      " 2   DewPnt     87648 non-null  float64\n",
      " 3   WetBulb    87648 non-null  float64\n",
      " 4   Humidity   87648 non-null  float64\n",
      " 5   ElecPrice  87648 non-null  float64\n",
      " 6   Day        87648 non-null  int64  \n",
      " 7   Month      87648 non-null  int64  \n",
      " 8   Year       87648 non-null  int64  \n",
      " 9   Minutes    87648 non-null  int64  \n",
      " 10  SYSLoad    87648 non-null  float64\n",
      "dtypes: float64(6), int64(4), object(1)\n",
      "memory usage: 7.4+ MB\n"
     ]
    },
    {
     "data": {
      "text/plain": [
       "'df.describe()'"
      ]
     },
     "execution_count": 26,
     "metadata": {},
     "output_type": "execute_result"
    }
   ],
   "source": [
    "# prints the high level information about the data\n",
    "df.info()\n",
    "# gives additional statistical information\n",
    "'''df.describe()'''"
   ]
  },
  {
   "cell_type": "code",
   "execution_count": 27,
   "metadata": {},
   "outputs": [],
   "source": [
    "# to check the total missing data on each features\n",
    "# zero indicates there is no missing data values\n",
    "df.isnull().sum()\n",
    "#df1 = df.drop(['Date','Month','Year', 'Day','Minutes'], axis=1)\n",
    "df1 = df.drop(['Date','Year'], axis=1)"
   ]
  },
  {
   "cell_type": "code",
   "execution_count": 28,
   "metadata": {},
   "outputs": [],
   "source": [
    "# df1.corr()\n",
    "# # to see the correlation between features\n",
    "# # this helps to see how one parameters has effects on others\n",
    "# # lets see the plot of correlation data\n",
    "# sns.heatmap(df1.corr(), annot= True)\n",
    "# plt.rcParams[\"figure.figsize\"]=(15,10)\n",
    "# plt.title('Correlation Matrix', fontsize=16)\n",
    "# plt.show()"
   ]
  },
  {
   "cell_type": "code",
   "execution_count": 29,
   "metadata": {},
   "outputs": [
    {
     "data": {
      "text/plain": [
       "\"ct = ColumnTransformer(transformers = [('encoder', OneHotEncoder(), [3])], remainder = 'passthrough')\\nx = ct.fit_transform(x)\\nx = x.toarray() # converts encoded data to dense array (optional) would show error without this\""
      ]
     },
     "execution_count": 29,
     "metadata": {},
     "output_type": "execute_result"
    }
   ],
   "source": [
    "# this will select all the rows and columns except the last one from df and assign to x variable\n",
    "# df1 does not contain the date in the first column in string format\n",
    "X = df1.iloc[:,:-1].values\n",
    "#x = df1.iloc[:,1].values\n",
    "# quality is taken target variable and it in last column and is assigned to y variable\n",
    "y = df1.iloc[:,-1].values\n",
    "# encoding the categorical data using onehotencoder this is for classification tasks\n",
    "'''ct = ColumnTransformer(transformers = [('encoder', OneHotEncoder(), [3])], remainder = 'passthrough')\n",
    "x = ct.fit_transform(x)\n",
    "x = x.toarray() # converts encoded data to dense array (optional) would show error without this'''"
   ]
  },
  {
   "cell_type": "markdown",
   "metadata": {},
   "source": [
    "Splitting the dataset into the training and test set"
   ]
  },
  {
   "cell_type": "code",
   "execution_count": 30,
   "metadata": {},
   "outputs": [],
   "source": [
    "# we will split the data into training and testing data using following code\n",
    "X_train, X_test, y_train, y_test = train_test_split(X, y, test_size = 0.2, random_state=0)\n",
    "# print(f'Standard deviation of test data: {x_test.std()}')\n",
    "# print(f'mean of test data: {x_test.mean()}')\n",
    "# print(f'Standard deviation of train data: {x_train.std()}')\n",
    "# print(f'mean deviation of train data: {x_train.mean()}')"
   ]
  },
  {
   "cell_type": "markdown",
   "metadata": {},
   "source": [
    "feature standardization and conversion to tensor"
   ]
  },
  {
   "cell_type": "code",
   "execution_count": 31,
   "metadata": {},
   "outputs": [
    {
     "data": {
      "text/plain": [
       "70118"
      ]
     },
     "execution_count": 31,
     "metadata": {},
     "output_type": "execute_result"
    }
   ],
   "source": [
    "# Feature Scaling (not necessary for neural networks, but can be applied)\n",
    "sc_X = StandardScaler()\n",
    "X_train = sc_X.fit_transform(X_train)\n",
    "X_test = sc_X.transform(X_test)\n",
    "\n",
    "# print(f'Standard deviation of test data: {x_test.std()}')\n",
    "# print(f'mean of test data: {x_test.mean()}')\n",
    "# print(f'Standard deviation of train data: {x_train.std()}')\n",
    "# print(f'mean of train data: {x_train.mean()}')\n",
    "# Convert data to PyTorch tensors\n",
    "X_train_tensor = torch.tensor(X_train, dtype=torch.float32)\n",
    "y_train_tensor = torch.tensor(y_train, dtype=torch.float32).view(-1,1)\n",
    "\n",
    "X_test_tensor = torch.tensor(X_test, dtype=torch.float32)\n",
    "y_test_tensor = torch.tensor(y_test, dtype=torch.float32).view(-1,1)\n",
    "\n",
    "# Create a PyTorch dataset and DataLoader\n",
    "train_dataset = TensorDataset(X_train_tensor, y_train_tensor)\n",
    "test_dataset = TensorDataset(X_test_tensor, y_test_tensor)\n",
    "\n",
    "batch_size = 64\n",
    "train_loader = DataLoader(train_dataset, batch_size=batch_size, shuffle=True)\n",
    "test_loader = DataLoader(test_dataset, batch_size=batch_size)\n",
    "len(X_train)\n",
    "#len(test_loader)"
   ]
  },
  {
   "cell_type": "markdown",
   "metadata": {},
   "source": [
    "Pipeline Preprocessing is done using following code"
   ]
  },
  {
   "cell_type": "code",
   "execution_count": 32,
   "metadata": {},
   "outputs": [],
   "source": [
    "X = pd.DataFrame(X)\n",
    "numeric_features = X.select_dtypes(include=['int64', 'float64']).columns\n",
    "categorical_features = X.select_dtypes(include=['object']).columns\n",
    "\n",
    "numeric_transformer = Pipeline(steps=[\n",
    "    ('imputer', SimpleImputer(strategy='median')),\n",
    "    ('scaler', StandardScaler())\n",
    "])\n",
    "\n",
    "categorical_transformer = Pipeline(steps=[\n",
    "    ('imputer', SimpleImputer(strategy='most_frequent')),\n",
    "    ('onehot', OneHotEncoder(handle_unknown='ignore'))\n",
    "])\n",
    "\n",
    "preprocessor = ColumnTransformer(\n",
    "    transformers=[\n",
    "        ('num', numeric_transformer, numeric_features),\n",
    "        ('cat', categorical_transformer, categorical_features)\n",
    "    ])\n"
   ]
  },
  {
   "cell_type": "code",
   "execution_count": 33,
   "metadata": {},
   "outputs": [
    {
     "name": "stdout",
     "output_type": "stream",
     "text": [
      "Best Random Forest score: 0.9277029488780235\n",
      "Best Neural Network score: 0.8264393987808966\n"
     ]
    },
    {
     "name": "stderr",
     "output_type": "stream",
     "text": [
      "c:\\Users\\shumagai\\AppData\\Local\\Programs\\Python\\Python312\\Lib\\site-packages\\sklearn\\neural_network\\_multilayer_perceptron.py:691: ConvergenceWarning: Stochastic Optimizer: Maximum iterations (69) reached and the optimization hasn't converged yet.\n",
      "  warnings.warn(\n"
     ]
    }
   ],
   "source": [
    "# Define the pipeline for Random Forest\n",
    "rf_pipeline = Pipeline([\n",
    "    ('imputer', SimpleImputer(strategy='mean')),\n",
    "    ('scaler', StandardScaler()),\n",
    "    ('regressor', RandomForestRegressor())\n",
    "])\n",
    "\n",
    "# Define the parameter space for Random Forest\n",
    "rf_param_space = {\n",
    "    'regressor__n_estimators': Integer(10, 1000),\n",
    "    'regressor__max_depth': Integer(3, 40),\n",
    "    'regressor__min_samples_split': Integer(2, 10),\n",
    "    'regressor__min_samples_leaf': Integer(1, 5)\n",
    "}\n",
    "\n",
    "# Define the pipeline for Neural Network\n",
    "nn_pipeline = Pipeline([\n",
    "    ('imputer', SimpleImputer(strategy='mean')),\n",
    "    ('scaler', StandardScaler()),\n",
    "    ('regressor', MLPRegressor())\n",
    "])\n",
    "\n",
    "# Define the parameter space for Neural Network\n",
    "nn_param_space = {\n",
    "    'regressor__hidden_layer_sizes': Integer(8, 256, prior='log-uniform'),\n",
    "    # 'regressor__hidden_layer_sizes':[(x, y, z) for x in range(10, 101, 10) \n",
    "    #                                   for y in range(10, 101, 10) \n",
    "    #                                   for z in range(10, 101, 10)],\n",
    "    'regressor__activation': Categorical(['identity', 'logistic', 'tanh', 'relu']),\n",
    "    'regressor__alpha': Real(1e-5, 1e-2, prior='log-uniform'),\n",
    "    'regressor__max_iter': Integer(10, 100),\n",
    "    'regressor__learning_rate_init': Real(0.0001, 0.1, prior='log-uniform')\n",
    "}\n",
    "\n",
    "# Perform hyperparameter optimization for Random Forest\n",
    "rf_optimizer = BayesSearchCV(\n",
    "    rf_pipeline, \n",
    "    rf_param_space, \n",
    "    n_iter=20, \n",
    "    cv=5, \n",
    "    n_jobs=-1\n",
    ")\n",
    "rf_optimizer.fit(X_train, y_train)\n",
    "\n",
    "# Perform hyperparameter optimization for Neural Network\n",
    "nn_optimizer = BayesSearchCV(\n",
    "    nn_pipeline, \n",
    "    nn_param_space, \n",
    "    n_iter=20, \n",
    "    cv=5, \n",
    "    n_jobs=-1\n",
    ")\n",
    "nn_optimizer.fit(X_train, y_train)\n",
    "\n",
    "# Evaluate the best models\n",
    "rf_best_score = rf_optimizer.best_score_\n",
    "nn_best_score = nn_optimizer.best_score_\n",
    "\n",
    "print(f\"Best Random Forest score: {rf_best_score}\")\n",
    "print(f\"Best Neural Network score: {nn_best_score}\")\n"
   ]
  },
  {
   "cell_type": "markdown",
   "metadata": {},
   "source": [
    "Neural Network Model for prediction"
   ]
  },
  {
   "cell_type": "code",
   "execution_count": 34,
   "metadata": {},
   "outputs": [
    {
     "name": "stdout",
     "output_type": "stream",
     "text": [
      "Predicted values:\n",
      "(17530,)\n",
      "The Model performance parameter after HPO using Random Search Optimization in NN algorithm:\n",
      "Mean Squared Error: 309325.9310232588\n",
      "Mean Absolute Error: 443.2211899259168\n",
      "r2_score: 0.8462242932394487\n",
      "Best Parameters for the NN are:\n",
      "OrderedDict({'regressor__activation': 'relu', 'regressor__alpha': 2.114217751084668e-05, 'regressor__hidden_layer_sizes': 136, 'regressor__learning_rate_init': 0.0975991602024436, 'regressor__max_iter': 69})\n"
     ]
    },
    {
     "data": {
      "image/png": "[encoded data removed]",
      "text/plain": [
       "<Figure size 640x480 with 1 Axes>"
      ]
     },
     "metadata": {},
     "output_type": "display_data"
    }
   ],
   "source": [
    "# Get the best model from hyperparameter optimization\n",
    "best_nn_model = nn_optimizer.best_estimator_\n",
    "\n",
    "# Make predictions on the test data\n",
    "y_pred = best_nn_model.predict(X_test)\n",
    "\n",
    "# Print the predicted values\n",
    "print(\"Predicted values:\")\n",
    "print(y_pred.shape)\n",
    "\n",
    "R2_score = r2_score(y_test, y_pred)\n",
    "mae = mean_absolute_error(y_test, y_pred)\n",
    "mse = mean_squared_error(y_test, y_pred)\n",
    "print(\"The Model performance parameter after HPO using Random Search Optimization in NN algorithm:\")\n",
    "print(\"Mean Squared Error:\", mse)\n",
    "print(\"Mean Absolute Error:\", mae)\n",
    "print(\"r2_score:\", R2_score)\n",
    "\n",
    "print('Best Parameters for the NN are:')\n",
    "print(nn_optimizer.best_params_)\n",
    "\n",
    "# Plotting the results (optional)\n",
    "plt.plot([min(y_test), max(y_test)], [min(y_test), max(y_test)], color='red', linestyle='--', label='Perfect fit')\n",
    "plt.scatter(y_test, y_pred, color='blue')\n",
    "plt.title('Neural Network')\n",
    "plt.xlabel('Actual values')\n",
    "plt.ylabel('Predicted values')\n",
    "plt.grid(True)\n",
    "plt.show()"
   ]
  },
  {
   "cell_type": "markdown",
   "metadata": {},
   "source": [
    "using random forest method for prediction and performance evaluation"
   ]
  },
  {
   "cell_type": "code",
   "execution_count": 35,
   "metadata": {},
   "outputs": [
    {
     "name": "stdout",
     "output_type": "stream",
     "text": [
      "Predicted values:\n",
      "(17530,)\n",
      "The Model performance parameter after HPO using Random Search Optimization in RF algorithm:\n",
      "Mean Squared Error: 130663.82192111407\n",
      "Mean Absolute Error: 259.66625028426466\n",
      "r2_score: 0.935042880183093\n",
      "Best Parameters for the RF are:\n",
      "OrderedDict({'regressor__max_depth': 40, 'regressor__min_samples_leaf': 1, 'regressor__min_samples_split': 2, 'regressor__n_estimators': 1000})\n"
     ]
    },
    {
     "data": {
      "image/png": "[encoded data removed]",
      "text/plain": [
       "<Figure size 640x480 with 1 Axes>"
      ]
     },
     "metadata": {},
     "output_type": "display_data"
    }
   ],
   "source": [
    "# Get the best model from hyperparameter optimization\n",
    "best_rf_model = rf_optimizer.best_estimator_\n",
    "\n",
    "# Make predictions on the test data\n",
    "y_pred = best_rf_model.predict(X_test)\n",
    "\n",
    "# Print the predicted values\n",
    "print(\"Predicted values:\")\n",
    "print(y_pred.shape)\n",
    "\n",
    "R2_score = r2_score(y_test, y_pred)\n",
    "mae = mean_absolute_error(y_test, y_pred)\n",
    "mse = mean_squared_error(y_test, y_pred)\n",
    "print(\"The Model performance parameter after HPO using Random Search Optimization in RF algorithm:\")\n",
    "print(\"Mean Squared Error:\", mse)\n",
    "print(\"Mean Absolute Error:\", mae)\n",
    "print(\"r2_score:\", R2_score)\n",
    "\n",
    "print('Best Parameters for the RF are:')\n",
    "print(rf_optimizer.best_params_)\n",
    "\n",
    "# Plotting the results (optional)\n",
    "plt.plot([min(y_test), max(y_test)], [min(y_test), max(y_test)], color='red', linestyle='--', label='Perfect fit')\n",
    "plt.scatter(y_test, y_pred, color='blue')\n",
    "plt.title('Random Forest')\n",
    "plt.xlabel('Actual values')\n",
    "plt.ylabel('Predicted values')\n",
    "plt.grid(True)\n",
    "plt.show()"
   ]
  }
 ],
 "metadata": {
  "kernelspec": {
   "display_name": "Python 3",
   "language": "python",
   "name": "python3"
  },
  "language_info": {
   "codemirror_mode": {
    "name": "ipython",
    "version": 3
   },
   "file_extension": ".py",
   "mimetype": "text/x-python",
   "name": "python",
   "nbconvert_exporter": "python",
   "pygments_lexer": "ipython3",
   "version": "3.12.0"
  }
 },
 "nbformat": 4,
 "nbformat_minor": 2
}
